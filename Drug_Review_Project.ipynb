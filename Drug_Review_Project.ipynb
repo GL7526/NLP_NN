{
  "nbformat": 4,
  "nbformat_minor": 0,
  "metadata": {
    "kernelspec": {
      "name": "python3",
      "display_name": "Python 3"
    },
    "language_info": {
      "codemirror_mode": {
        "name": "ipython",
        "version": 3
      },
      "file_extension": ".py",
      "mimetype": "text/x-python",
      "name": "python",
      "nbconvert_exporter": "python",
      "pygments_lexer": "ipython3",
      "version": "3.7.3"
    },
    "toc": {
      "base_numbering": 1,
      "nav_menu": {},
      "number_sections": true,
      "sideBar": true,
      "skip_h1_title": false,
      "title_cell": "Table of Contents",
      "title_sidebar": "Contents",
      "toc_cell": false,
      "toc_position": {
        "height": "calc(100% - 180px)",
        "left": "10px",
        "top": "150px",
        "width": "262.225px"
      },
      "toc_section_display": true,
      "toc_window_display": false
    },
    "colab": {
      "name": "Drug Review Project.ipynb",
      "provenance": [],
      "collapsed_sections": [
        "Fh9ozQ9-p4YE",
        "cDNhyh18yDyG",
        "oJkmdNUQybge",
        "rKECTk9LJnWS"
      ],
      "toc_visible": true,
      "machine_shape": "hm"
    },
    "accelerator": "GPU"
  },
  "cells": [
    {
      "cell_type": "markdown",
      "metadata": {
        "id": "jGNUnvV3PZtw",
        "colab_type": "text"
      },
      "source": [
        "# Initial Imports"
      ]
    },
    {
      "cell_type": "code",
      "metadata": {
        "id": "inuXkxXqPZt2",
        "colab_type": "code",
        "colab": {}
      },
      "source": [
        "import pandas as pd\n",
        "import numpy as np\n",
        "import matplotlib.pyplot as plt"
      ],
      "execution_count": 0,
      "outputs": []
    },
    {
      "cell_type": "markdown",
      "metadata": {
        "id": "uyR-QXudVA_V",
        "colab_type": "text"
      },
      "source": [
        "# Import Data\n",
        "Only need to run once"
      ]
    },
    {
      "cell_type": "code",
      "metadata": {
        "id": "Se8HIf1oSZ8J",
        "colab_type": "code",
        "colab": {}
      },
      "source": [
        "from google.colab import files\n",
        "uploaded = files.upload()"
      ],
      "execution_count": 0,
      "outputs": []
    },
    {
      "cell_type": "code",
      "metadata": {
        "id": "8SmRE4l9rdSg",
        "colab_type": "code",
        "colab": {}
      },
      "source": [
        "# from google.colab import drive\n",
        "# drive.mount('/content/drive')"
      ],
      "execution_count": 0,
      "outputs": []
    },
    {
      "cell_type": "markdown",
      "metadata": {
        "id": "KCeyRZF7VKKf",
        "colab_type": "text"
      },
      "source": [
        "# Look at Data"
      ]
    },
    {
      "cell_type": "code",
      "metadata": {
        "colab_type": "code",
        "id": "yo70hUyrQSFB",
        "colab": {}
      },
      "source": [
        "# If just uploading files:\n",
        "data1 = pd.read_csv('drugsComTest_raw.tsv', delimiter = '\\t', index_col = 'Unnamed: 0')\n",
        "data2 = pd.read_csv('drugsComTrain_raw.tsv', delimiter = '\\t', index_col = 'Unnamed: 0')\n",
        "# If mounting drive:\n",
        "# data1 = pd.read_csv('drive/My Drive/Colab Notebooks/drugsComTest_raw.tsv', delimiter = '\\t', index_col = 'Unnamed: 0')\n",
        "# data2 = pd.read_csv('drive/My Drive/Colab Notebooks/drugsComTrain_raw.tsv', delimiter = '\\t', index_col = 'Unnamed: 0')\n",
        "\n",
        "# data is split for us 75%/25%"
      ],
      "execution_count": 0,
      "outputs": []
    },
    {
      "cell_type": "code",
      "metadata": {
        "id": "zZmtOz0-PZuM",
        "colab_type": "code",
        "outputId": "62188dd2-d74f-495a-d8c8-dd75b7495ea9",
        "colab": {
          "base_uri": "https://localhost:8080/",
          "height": 195
        }
      },
      "source": [
        "data1.head()"
      ],
      "execution_count": 0,
      "outputs": [
        {
          "output_type": "execute_result",
          "data": {
            "text/html": [
              "<div>\n",
              "<style scoped>\n",
              "    .dataframe tbody tr th:only-of-type {\n",
              "        vertical-align: middle;\n",
              "    }\n",
              "\n",
              "    .dataframe tbody tr th {\n",
              "        vertical-align: top;\n",
              "    }\n",
              "\n",
              "    .dataframe thead th {\n",
              "        text-align: right;\n",
              "    }\n",
              "</style>\n",
              "<table border=\"1\" class=\"dataframe\">\n",
              "  <thead>\n",
              "    <tr style=\"text-align: right;\">\n",
              "      <th></th>\n",
              "      <th>drugName</th>\n",
              "      <th>condition</th>\n",
              "      <th>review</th>\n",
              "      <th>rating</th>\n",
              "      <th>date</th>\n",
              "      <th>usefulCount</th>\n",
              "    </tr>\n",
              "  </thead>\n",
              "  <tbody>\n",
              "    <tr>\n",
              "      <th>206461</th>\n",
              "      <td>Valsartan</td>\n",
              "      <td>Left Ventricular Dysfunction</td>\n",
              "      <td>\"It has no side effect, I take it in combinati...</td>\n",
              "      <td>9.0</td>\n",
              "      <td>May 20, 2012</td>\n",
              "      <td>27</td>\n",
              "    </tr>\n",
              "    <tr>\n",
              "      <th>95260</th>\n",
              "      <td>Guanfacine</td>\n",
              "      <td>ADHD</td>\n",
              "      <td>\"My son is halfway through his fourth week of ...</td>\n",
              "      <td>8.0</td>\n",
              "      <td>April 27, 2010</td>\n",
              "      <td>192</td>\n",
              "    </tr>\n",
              "    <tr>\n",
              "      <th>92703</th>\n",
              "      <td>Lybrel</td>\n",
              "      <td>Birth Control</td>\n",
              "      <td>\"I used to take another oral contraceptive, wh...</td>\n",
              "      <td>5.0</td>\n",
              "      <td>December 14, 2009</td>\n",
              "      <td>17</td>\n",
              "    </tr>\n",
              "    <tr>\n",
              "      <th>138000</th>\n",
              "      <td>Ortho Evra</td>\n",
              "      <td>Birth Control</td>\n",
              "      <td>\"This is my first time using any form of birth...</td>\n",
              "      <td>8.0</td>\n",
              "      <td>November 3, 2015</td>\n",
              "      <td>10</td>\n",
              "    </tr>\n",
              "    <tr>\n",
              "      <th>35696</th>\n",
              "      <td>Buprenorphine / naloxone</td>\n",
              "      <td>Opiate Dependence</td>\n",
              "      <td>\"Suboxone has completely turned my life around...</td>\n",
              "      <td>9.0</td>\n",
              "      <td>November 27, 2016</td>\n",
              "      <td>37</td>\n",
              "    </tr>\n",
              "  </tbody>\n",
              "</table>\n",
              "</div>"
            ],
            "text/plain": [
              "                        drugName  ... usefulCount\n",
              "206461                 Valsartan  ...          27\n",
              "95260                 Guanfacine  ...         192\n",
              "92703                     Lybrel  ...          17\n",
              "138000                Ortho Evra  ...          10\n",
              "35696   Buprenorphine / naloxone  ...          37\n",
              "\n",
              "[5 rows x 6 columns]"
            ]
          },
          "metadata": {
            "tags": []
          },
          "execution_count": 6
        }
      ]
    },
    {
      "cell_type": "code",
      "metadata": {
        "id": "P6x_v9hNPZuV",
        "colab_type": "code",
        "outputId": "e9fb199a-1fc1-4d49-aa8c-238a96605875",
        "colab": {
          "base_uri": "https://localhost:8080/",
          "height": 195
        }
      },
      "source": [
        "data2.head()"
      ],
      "execution_count": 0,
      "outputs": [
        {
          "output_type": "execute_result",
          "data": {
            "text/html": [
              "<div>\n",
              "<style scoped>\n",
              "    .dataframe tbody tr th:only-of-type {\n",
              "        vertical-align: middle;\n",
              "    }\n",
              "\n",
              "    .dataframe tbody tr th {\n",
              "        vertical-align: top;\n",
              "    }\n",
              "\n",
              "    .dataframe thead th {\n",
              "        text-align: right;\n",
              "    }\n",
              "</style>\n",
              "<table border=\"1\" class=\"dataframe\">\n",
              "  <thead>\n",
              "    <tr style=\"text-align: right;\">\n",
              "      <th></th>\n",
              "      <th>drugName</th>\n",
              "      <th>condition</th>\n",
              "      <th>review</th>\n",
              "      <th>rating</th>\n",
              "      <th>date</th>\n",
              "      <th>usefulCount</th>\n",
              "    </tr>\n",
              "  </thead>\n",
              "  <tbody>\n",
              "    <tr>\n",
              "      <th>163740</th>\n",
              "      <td>Mirtazapine</td>\n",
              "      <td>Depression</td>\n",
              "      <td>\"I&amp;#039;ve tried a few antidepressants over th...</td>\n",
              "      <td>10.0</td>\n",
              "      <td>February 28, 2012</td>\n",
              "      <td>22</td>\n",
              "    </tr>\n",
              "    <tr>\n",
              "      <th>206473</th>\n",
              "      <td>Mesalamine</td>\n",
              "      <td>Crohn's Disease, Maintenance</td>\n",
              "      <td>\"My son has Crohn&amp;#039;s disease and has done ...</td>\n",
              "      <td>8.0</td>\n",
              "      <td>May 17, 2009</td>\n",
              "      <td>17</td>\n",
              "    </tr>\n",
              "    <tr>\n",
              "      <th>159672</th>\n",
              "      <td>Bactrim</td>\n",
              "      <td>Urinary Tract Infection</td>\n",
              "      <td>\"Quick reduction of symptoms\"</td>\n",
              "      <td>9.0</td>\n",
              "      <td>September 29, 2017</td>\n",
              "      <td>3</td>\n",
              "    </tr>\n",
              "    <tr>\n",
              "      <th>39293</th>\n",
              "      <td>Contrave</td>\n",
              "      <td>Weight Loss</td>\n",
              "      <td>\"Contrave combines drugs that were used for al...</td>\n",
              "      <td>9.0</td>\n",
              "      <td>March 5, 2017</td>\n",
              "      <td>35</td>\n",
              "    </tr>\n",
              "    <tr>\n",
              "      <th>97768</th>\n",
              "      <td>Cyclafem 1 / 35</td>\n",
              "      <td>Birth Control</td>\n",
              "      <td>\"I have been on this birth control for one cyc...</td>\n",
              "      <td>9.0</td>\n",
              "      <td>October 22, 2015</td>\n",
              "      <td>4</td>\n",
              "    </tr>\n",
              "  </tbody>\n",
              "</table>\n",
              "</div>"
            ],
            "text/plain": [
              "               drugName  ... usefulCount\n",
              "163740      Mirtazapine  ...          22\n",
              "206473       Mesalamine  ...          17\n",
              "159672          Bactrim  ...           3\n",
              "39293          Contrave  ...          35\n",
              "97768   Cyclafem 1 / 35  ...           4\n",
              "\n",
              "[5 rows x 6 columns]"
            ]
          },
          "metadata": {
            "tags": []
          },
          "execution_count": 7
        }
      ]
    },
    {
      "cell_type": "markdown",
      "metadata": {
        "id": "sp1JTAq6Yt6B",
        "colab_type": "text"
      },
      "source": [
        "## Merge Data?"
      ]
    },
    {
      "cell_type": "code",
      "metadata": {
        "colab_type": "code",
        "outputId": "68444f74-3874-4dbc-bc46-01a4d44b6c96",
        "id": "ANHPvUC1YrFn",
        "colab": {
          "base_uri": "https://localhost:8080/",
          "height": 195
        }
      },
      "source": [
        "data = pd.concat([data1, data2], axis = 0)\n",
        "data.head()\n",
        "# not completely sure if we should use merged data. we should be able to do the preprocessing with merged data but not train using merged data?\n",
        "# let me know if i'm wrong"
      ],
      "execution_count": 0,
      "outputs": [
        {
          "output_type": "execute_result",
          "data": {
            "text/html": [
              "<div>\n",
              "<style scoped>\n",
              "    .dataframe tbody tr th:only-of-type {\n",
              "        vertical-align: middle;\n",
              "    }\n",
              "\n",
              "    .dataframe tbody tr th {\n",
              "        vertical-align: top;\n",
              "    }\n",
              "\n",
              "    .dataframe thead th {\n",
              "        text-align: right;\n",
              "    }\n",
              "</style>\n",
              "<table border=\"1\" class=\"dataframe\">\n",
              "  <thead>\n",
              "    <tr style=\"text-align: right;\">\n",
              "      <th></th>\n",
              "      <th>drugName</th>\n",
              "      <th>condition</th>\n",
              "      <th>review</th>\n",
              "      <th>rating</th>\n",
              "      <th>date</th>\n",
              "      <th>usefulCount</th>\n",
              "    </tr>\n",
              "  </thead>\n",
              "  <tbody>\n",
              "    <tr>\n",
              "      <th>206461</th>\n",
              "      <td>Valsartan</td>\n",
              "      <td>Left Ventricular Dysfunction</td>\n",
              "      <td>\"It has no side effect, I take it in combinati...</td>\n",
              "      <td>9.0</td>\n",
              "      <td>May 20, 2012</td>\n",
              "      <td>27</td>\n",
              "    </tr>\n",
              "    <tr>\n",
              "      <th>95260</th>\n",
              "      <td>Guanfacine</td>\n",
              "      <td>ADHD</td>\n",
              "      <td>\"My son is halfway through his fourth week of ...</td>\n",
              "      <td>8.0</td>\n",
              "      <td>April 27, 2010</td>\n",
              "      <td>192</td>\n",
              "    </tr>\n",
              "    <tr>\n",
              "      <th>92703</th>\n",
              "      <td>Lybrel</td>\n",
              "      <td>Birth Control</td>\n",
              "      <td>\"I used to take another oral contraceptive, wh...</td>\n",
              "      <td>5.0</td>\n",
              "      <td>December 14, 2009</td>\n",
              "      <td>17</td>\n",
              "    </tr>\n",
              "    <tr>\n",
              "      <th>138000</th>\n",
              "      <td>Ortho Evra</td>\n",
              "      <td>Birth Control</td>\n",
              "      <td>\"This is my first time using any form of birth...</td>\n",
              "      <td>8.0</td>\n",
              "      <td>November 3, 2015</td>\n",
              "      <td>10</td>\n",
              "    </tr>\n",
              "    <tr>\n",
              "      <th>35696</th>\n",
              "      <td>Buprenorphine / naloxone</td>\n",
              "      <td>Opiate Dependence</td>\n",
              "      <td>\"Suboxone has completely turned my life around...</td>\n",
              "      <td>9.0</td>\n",
              "      <td>November 27, 2016</td>\n",
              "      <td>37</td>\n",
              "    </tr>\n",
              "  </tbody>\n",
              "</table>\n",
              "</div>"
            ],
            "text/plain": [
              "                        drugName  ... usefulCount\n",
              "206461                 Valsartan  ...          27\n",
              "95260                 Guanfacine  ...         192\n",
              "92703                     Lybrel  ...          17\n",
              "138000                Ortho Evra  ...          10\n",
              "35696   Buprenorphine / naloxone  ...          37\n",
              "\n",
              "[5 rows x 6 columns]"
            ]
          },
          "metadata": {
            "tags": []
          },
          "execution_count": 63
        }
      ]
    },
    {
      "cell_type": "code",
      "metadata": {
        "id": "kCpA76fZWbd0",
        "colab_type": "code",
        "outputId": "c09d1cb8-522c-47dd-e542-814a0d3f17ed",
        "colab": {
          "base_uri": "https://localhost:8080/",
          "height": 34
        }
      },
      "source": [
        "data.shape, data1.shape, data2.shape, data1.shape[0]+data2.shape[0] #((215063, 6), (161297, 6), (53766, 6), 215063)"
      ],
      "execution_count": 0,
      "outputs": [
        {
          "output_type": "execute_result",
          "data": {
            "text/plain": [
              "((215063, 6), (161297, 6), (53766, 6), 215063)"
            ]
          },
          "metadata": {
            "tags": []
          },
          "execution_count": 40
        }
      ]
    },
    {
      "cell_type": "code",
      "metadata": {
        "id": "BRlayRRtWfeu",
        "colab_type": "code",
        "colab": {}
      },
      "source": [
        "import seaborn as sns"
      ],
      "execution_count": 0,
      "outputs": []
    },
    {
      "cell_type": "code",
      "metadata": {
        "id": "aTcBWPnOWfyU",
        "colab_type": "code",
        "outputId": "0aa9bac1-0c80-4aab-eded-c02e1ebb41e3",
        "colab": {
          "base_uri": "https://localhost:8080/",
          "height": 296
        }
      },
      "source": [
        "sns.distplot(data.rating, kde = False)"
      ],
      "execution_count": 0,
      "outputs": [
        {
          "output_type": "execute_result",
          "data": {
            "text/plain": [
              "<matplotlib.axes._subplots.AxesSubplot at 0x7f3a9b903dd8>"
            ]
          },
          "metadata": {
            "tags": []
          },
          "execution_count": 42
        },
        {
          "output_type": "display_data",
          "data": {
            "image/png": "[encoded data removed]",
            "text/plain": [
              "<Figure size 432x288 with 1 Axes>"
            ]
          },
          "metadata": {
            "tags": []
          }
        }
      ]
    },
    {
      "cell_type": "markdown",
      "metadata": {
        "id": "Fh9ozQ9-p4YE",
        "colab_type": "text"
      },
      "source": [
        "# Testing on one sample"
      ]
    },
    {
      "cell_type": "code",
      "metadata": {
        "id": "Q5WGFY0BWh54",
        "colab_type": "code",
        "outputId": "51e06ae8-e341-4856-e885-8d612a652e8a",
        "colab": {
          "base_uri": "https://localhost:8080/",
          "height": 54
        }
      },
      "source": [
        "a = data['review'][0]\n",
        "a"
      ],
      "execution_count": 0,
      "outputs": [
        {
          "output_type": "execute_result",
          "data": {
            "text/plain": [
              "'\"Been on the depo injection since January 2015, had bleeding but it stopped after a while. When I had another injection in June, I didn&#039;t bleed for about a month. Started spotting mid-July and since approx. August 1st, I have been bleeding constantly, heavy enough to use pads and now it&#039;s almost November! I&#039;m sick of bleeding and forking out money for sanitary pads when I shouldn&#039;t be bleeding-well not as long as I have been now! Currently awaiting an ultrasound to see what is happening. I would like to change my contraceptive but my doctor won&#039;t let me :(\"'"
            ]
          },
          "metadata": {
            "tags": []
          },
          "execution_count": 12
        }
      ]
    },
    {
      "cell_type": "code",
      "metadata": {
        "id": "GyzULM2ZWh_N",
        "colab_type": "code",
        "outputId": "93e16f90-3ca0-4911-e248-f6623c4feb38",
        "colab": {
          "base_uri": "https://localhost:8080/",
          "height": 34
        }
      },
      "source": [
        "a.count('&#039;')"
      ],
      "execution_count": 0,
      "outputs": [
        {
          "output_type": "execute_result",
          "data": {
            "text/plain": [
              "5"
            ]
          },
          "metadata": {
            "tags": []
          },
          "execution_count": 13
        }
      ]
    },
    {
      "cell_type": "code",
      "metadata": {
        "id": "lNuyTq8rWgFt",
        "colab_type": "code",
        "outputId": "4233503e-2d43-48d0-e26a-9a9d00481aa1",
        "colab": {
          "base_uri": "https://localhost:8080/",
          "height": 54
        }
      },
      "source": [
        "a = a.replace('&#039;', \"'\")\n",
        "a"
      ],
      "execution_count": 0,
      "outputs": [
        {
          "output_type": "execute_result",
          "data": {
            "text/plain": [
              "'\"Been on the depo injection since January 2015, had bleeding but it stopped after a while. When I had another injection in June, I didn\\'t bleed for about a month. Started spotting mid-July and since approx. August 1st, I have been bleeding constantly, heavy enough to use pads and now it\\'s almost November! I\\'m sick of bleeding and forking out money for sanitary pads when I shouldn\\'t be bleeding-well not as long as I have been now! Currently awaiting an ultrasound to see what is happening. I would like to change my contraceptive but my doctor won\\'t let me :(\"'"
            ]
          },
          "metadata": {
            "tags": []
          },
          "execution_count": 14
        }
      ]
    },
    {
      "cell_type": "code",
      "metadata": {
        "id": "FHQ-kZiYA9d-",
        "colab_type": "code",
        "outputId": "ffe194a6-126d-47b3-f8e5-8a988273cee7",
        "colab": {
          "base_uri": "https://localhost:8080/",
          "height": 67
        }
      },
      "source": [
        "import nltk\n",
        "nltk.download('punkt')"
      ],
      "execution_count": 0,
      "outputs": [
        {
          "output_type": "stream",
          "text": [
            "[nltk_data] Downloading package punkt to /root/nltk_data...\n",
            "[nltk_data]   Unzipping tokenizers/punkt.zip.\n"
          ],
          "name": "stdout"
        },
        {
          "output_type": "execute_result",
          "data": {
            "text/plain": [
              "True"
            ]
          },
          "metadata": {
            "tags": []
          },
          "execution_count": 15
        }
      ]
    },
    {
      "cell_type": "code",
      "metadata": {
        "id": "yO6wi7fL1iAK",
        "colab_type": "code",
        "outputId": "7b1f3be5-5ee0-467d-869a-0d3ba3a21386",
        "colab": {
          "base_uri": "https://localhost:8080/",
          "height": 79
        }
      },
      "source": [
        "from nltk import word_tokenize\n",
        "from keras.preprocessing.text import Tokenizer"
      ],
      "execution_count": 0,
      "outputs": [
        {
          "output_type": "stream",
          "text": [
            "Using TensorFlow backend.\n"
          ],
          "name": "stderr"
        },
        {
          "output_type": "display_data",
          "data": {
            "text/html": [
              "<p style=\"color: red;\">\n",
              "The default version of TensorFlow in Colab will soon switch to TensorFlow 2.x.<br>\n",
              "We recommend you <a href=\"https://www.tensorflow.org/guide/migrate\" target=\"_blank\">upgrade</a> now \n",
              "or ensure your notebook will continue to use TensorFlow 1.x via the <code>%tensorflow_version 1.x</code> magic:\n",
              "<a href=\"https://colab.research.google.com/notebooks/tensorflow_version.ipynb\" target=\"_blank\">more info</a>.</p>\n"
            ],
            "text/plain": [
              "<IPython.core.display.HTML object>"
            ]
          },
          "metadata": {
            "tags": []
          }
        }
      ]
    },
    {
      "cell_type": "code",
      "metadata": {
        "id": "dfv2pCucA12F",
        "colab_type": "code",
        "colab": {}
      },
      "source": [
        "word_tokenize(a), len(word_tokenize(a))"
      ],
      "execution_count": 0,
      "outputs": []
    },
    {
      "cell_type": "markdown",
      "metadata": {
        "id": "KN4NSqExhDXv",
        "colab_type": "text"
      },
      "source": [
        "# Cleaning all data now instead of just one"
      ]
    },
    {
      "cell_type": "markdown",
      "metadata": {
        "id": "cDNhyh18yDyG",
        "colab_type": "text"
      },
      "source": [
        "## Making all \\&#039; to '"
      ]
    },
    {
      "cell_type": "code",
      "metadata": {
        "id": "8IfobVcGhEsq",
        "colab_type": "code",
        "outputId": "b1228546-08f5-43fa-8e6e-84465918e61e",
        "colab": {
          "base_uri": "https://localhost:8080/",
          "height": 402
        }
      },
      "source": [
        "data = data[['review', 'rating']]\n",
        "data"
      ],
      "execution_count": 0,
      "outputs": [
        {
          "output_type": "execute_result",
          "data": {
            "text/html": [
              "<div>\n",
              "<style scoped>\n",
              "    .dataframe tbody tr th:only-of-type {\n",
              "        vertical-align: middle;\n",
              "    }\n",
              "\n",
              "    .dataframe tbody tr th {\n",
              "        vertical-align: top;\n",
              "    }\n",
              "\n",
              "    .dataframe thead th {\n",
              "        text-align: right;\n",
              "    }\n",
              "</style>\n",
              "<table border=\"1\" class=\"dataframe\">\n",
              "  <thead>\n",
              "    <tr style=\"text-align: right;\">\n",
              "      <th></th>\n",
              "      <th>review</th>\n",
              "      <th>rating</th>\n",
              "    </tr>\n",
              "  </thead>\n",
              "  <tbody>\n",
              "    <tr>\n",
              "      <th>206461</th>\n",
              "      <td>\"It has no side effect, I take it in combinati...</td>\n",
              "      <td>9.0</td>\n",
              "    </tr>\n",
              "    <tr>\n",
              "      <th>95260</th>\n",
              "      <td>\"My son is halfway through his fourth week of ...</td>\n",
              "      <td>8.0</td>\n",
              "    </tr>\n",
              "    <tr>\n",
              "      <th>92703</th>\n",
              "      <td>\"I used to take another oral contraceptive, wh...</td>\n",
              "      <td>5.0</td>\n",
              "    </tr>\n",
              "    <tr>\n",
              "      <th>138000</th>\n",
              "      <td>\"This is my first time using any form of birth...</td>\n",
              "      <td>8.0</td>\n",
              "    </tr>\n",
              "    <tr>\n",
              "      <th>35696</th>\n",
              "      <td>\"Suboxone has completely turned my life around...</td>\n",
              "      <td>9.0</td>\n",
              "    </tr>\n",
              "    <tr>\n",
              "      <th>...</th>\n",
              "      <td>...</td>\n",
              "      <td>...</td>\n",
              "    </tr>\n",
              "    <tr>\n",
              "      <th>159999</th>\n",
              "      <td>\"I have taken Tamoxifen for 5 years. Side effe...</td>\n",
              "      <td>10.0</td>\n",
              "    </tr>\n",
              "    <tr>\n",
              "      <th>140714</th>\n",
              "      <td>\"I&amp;#039;ve been taking Lexapro (escitaploprgra...</td>\n",
              "      <td>9.0</td>\n",
              "    </tr>\n",
              "    <tr>\n",
              "      <th>130945</th>\n",
              "      <td>\"I&amp;#039;m married, 34 years old and I have no ...</td>\n",
              "      <td>8.0</td>\n",
              "    </tr>\n",
              "    <tr>\n",
              "      <th>47656</th>\n",
              "      <td>\"I was prescribed Nucynta for severe neck/shou...</td>\n",
              "      <td>1.0</td>\n",
              "    </tr>\n",
              "    <tr>\n",
              "      <th>113712</th>\n",
              "      <td>\"It works!!!\"</td>\n",
              "      <td>9.0</td>\n",
              "    </tr>\n",
              "  </tbody>\n",
              "</table>\n",
              "<p>215063 rows × 2 columns</p>\n",
              "</div>"
            ],
            "text/plain": [
              "                                                   review  rating\n",
              "206461  \"It has no side effect, I take it in combinati...     9.0\n",
              "95260   \"My son is halfway through his fourth week of ...     8.0\n",
              "92703   \"I used to take another oral contraceptive, wh...     5.0\n",
              "138000  \"This is my first time using any form of birth...     8.0\n",
              "35696   \"Suboxone has completely turned my life around...     9.0\n",
              "...                                                   ...     ...\n",
              "159999  \"I have taken Tamoxifen for 5 years. Side effe...    10.0\n",
              "140714  \"I&#039;ve been taking Lexapro (escitaploprgra...     9.0\n",
              "130945  \"I&#039;m married, 34 years old and I have no ...     8.0\n",
              "47656   \"I was prescribed Nucynta for severe neck/shou...     1.0\n",
              "113712                                      \"It works!!!\"     9.0\n",
              "\n",
              "[215063 rows x 2 columns]"
            ]
          },
          "metadata": {
            "tags": []
          },
          "execution_count": 64
        }
      ]
    },
    {
      "cell_type": "code",
      "metadata": {
        "id": "axWaiYbzxZd3",
        "colab_type": "code",
        "outputId": "ec898227-ec0c-4bba-a072-a2866b556ad5",
        "colab": {
          "base_uri": "https://localhost:8080/",
          "height": 54
        }
      },
      "source": [
        "data['review'][0]"
      ],
      "execution_count": 0,
      "outputs": [
        {
          "output_type": "execute_result",
          "data": {
            "text/plain": [
              "'\"Been on the depo injection since January 2015, had bleeding but it stopped after a while. When I had another injection in June, I didn&#039;t bleed for about a month. Started spotting mid-July and since approx. August 1st, I have been bleeding constantly, heavy enough to use pads and now it&#039;s almost November! I&#039;m sick of bleeding and forking out money for sanitary pads when I shouldn&#039;t be bleeding-well not as long as I have been now! Currently awaiting an ultrasound to see what is happening. I would like to change my contraceptive but my doctor won&#039;t let me :(\"'"
            ]
          },
          "metadata": {
            "tags": []
          },
          "execution_count": 65
        }
      ]
    },
    {
      "cell_type": "code",
      "metadata": {
        "id": "ZIvu5biohE_z",
        "colab_type": "code",
        "outputId": "e542f3d8-2414-4135-9802-d4390d4bc937",
        "colab": {
          "base_uri": "https://localhost:8080/",
          "height": 54
        }
      },
      "source": [
        "data['review'] = data['review'].apply(lambda x: x.replace(\"&#039;\", \"'\"))\n",
        "data['review'][0]"
      ],
      "execution_count": 0,
      "outputs": [
        {
          "output_type": "execute_result",
          "data": {
            "text/plain": [
              "'\"Been on the depo injection since January 2015, had bleeding but it stopped after a while. When I had another injection in June, I didn\\'t bleed for about a month. Started spotting mid-July and since approx. August 1st, I have been bleeding constantly, heavy enough to use pads and now it\\'s almost November! I\\'m sick of bleeding and forking out money for sanitary pads when I shouldn\\'t be bleeding-well not as long as I have been now! Currently awaiting an ultrasound to see what is happening. I would like to change my contraceptive but my doctor won\\'t let me :(\"'"
            ]
          },
          "metadata": {
            "tags": []
          },
          "execution_count": 66
        }
      ]
    },
    {
      "cell_type": "markdown",
      "metadata": {
        "id": "qWdhX8FKhFP9",
        "colab_type": "text"
      },
      "source": [
        "## Things to remove: stopwords and punctuation ;; \n",
        "keras.preprocessing.text.Tokenizer actually splits by spaces (won't need to worry about contractions like didn't), removes punctuation, lowercases everything, and lets you choose the number of words to keep\n",
        "BUT it doesn't remove stop words NOR lemmatizes words"
      ]
    },
    {
      "cell_type": "code",
      "metadata": {
        "id": "oO8ULEmuybQF",
        "colab_type": "code",
        "colab": {}
      },
      "source": [
        "from nltk.corpus import stopwords"
      ],
      "execution_count": 0,
      "outputs": []
    },
    {
      "cell_type": "code",
      "metadata": {
        "id": "gamX106yyp1C",
        "colab_type": "code",
        "outputId": "bb7b452a-08fa-47c9-ddd2-ca2e9f1bfcef",
        "colab": {
          "base_uri": "https://localhost:8080/",
          "height": 67
        }
      },
      "source": [
        "import nltk\n",
        "nltk.download('stopwords')"
      ],
      "execution_count": 0,
      "outputs": [
        {
          "output_type": "stream",
          "text": [
            "[nltk_data] Downloading package stopwords to /root/nltk_data...\n",
            "[nltk_data]   Unzipping corpora/stopwords.zip.\n"
          ],
          "name": "stdout"
        },
        {
          "output_type": "execute_result",
          "data": {
            "text/plain": [
              "True"
            ]
          },
          "metadata": {
            "tags": []
          },
          "execution_count": 28
        }
      ]
    },
    {
      "cell_type": "code",
      "metadata": {
        "id": "m-aWumBbybYq",
        "colab_type": "code",
        "outputId": "febc81f1-ae72-4f23-92f6-bbebf85e3038",
        "colab": {
          "base_uri": "https://localhost:8080/",
          "height": 34
        }
      },
      "source": [
        "remove_list = stopwords.words('english')\n",
        "remove_list[:5] # all lowercase already"
      ],
      "execution_count": 0,
      "outputs": [
        {
          "output_type": "execute_result",
          "data": {
            "text/plain": [
              "['i', 'me', 'my', 'myself', 'we']"
            ]
          },
          "metadata": {
            "tags": []
          },
          "execution_count": 47
        }
      ]
    },
    {
      "cell_type": "code",
      "metadata": {
        "id": "SeNQITgtzxgv",
        "colab_type": "code",
        "colab": {}
      },
      "source": [
        "import string"
      ],
      "execution_count": 0,
      "outputs": []
    },
    {
      "cell_type": "code",
      "metadata": {
        "id": "wwZjqA9pybcm",
        "colab_type": "code",
        "outputId": "f1a59405-3e2c-4470-8a8a-5e4ad8e04334",
        "colab": {
          "base_uri": "https://localhost:8080/",
          "height": 34
        }
      },
      "source": [
        "remove_list += string.punctuation\n",
        "type(remove_list), remove_list[-5:]"
      ],
      "execution_count": 0,
      "outputs": [
        {
          "output_type": "execute_result",
          "data": {
            "text/plain": [
              "(list, ['`', '{', '|', '}', '~'])"
            ]
          },
          "metadata": {
            "tags": []
          },
          "execution_count": 48
        }
      ]
    },
    {
      "cell_type": "markdown",
      "metadata": {
        "id": "oJkmdNUQybge",
        "colab_type": "text"
      },
      "source": [
        "### Tokenize before removing"
      ]
    },
    {
      "cell_type": "code",
      "metadata": {
        "id": "VbQonPHM2vKF",
        "colab_type": "code",
        "colab": {}
      },
      "source": [
        "from nltk.tokenize import word_tokenize, TweetTokenizer\n",
        "# word_tokenize would split \"didn't\" to \"did\" and \"n't\" but TweetTokenizer would keep it \"didn't\""
      ],
      "execution_count": 0,
      "outputs": []
    },
    {
      "cell_type": "code",
      "metadata": {
        "id": "wzULMmlf2roV",
        "colab_type": "code",
        "colab": {}
      },
      "source": [
        "twt_tokenizer = TweetTokenizer()\n",
        "data['review'] = data['review'].apply(lambda x: twt_tokenizer.tokenize(x))\n",
        "data['review'][0]"
      ],
      "execution_count": 0,
      "outputs": []
    },
    {
      "cell_type": "markdown",
      "metadata": {
        "id": "rKECTk9LJnWS",
        "colab_type": "text"
      },
      "source": [
        "### Lowercase before removing"
      ]
    },
    {
      "cell_type": "code",
      "metadata": {
        "id": "9bmnm39VFlzV",
        "colab_type": "code",
        "colab": {}
      },
      "source": [
        "def lower_it(list_of_str):\n",
        "  return [word.lower() for word in list_of_str]"
      ],
      "execution_count": 0,
      "outputs": []
    },
    {
      "cell_type": "code",
      "metadata": {
        "id": "ob_hOsUAIuK2",
        "colab_type": "code",
        "outputId": "dbf9fe1a-08be-4550-c695-3f31a9c0a571",
        "colab": {
          "base_uri": "https://localhost:8080/",
          "height": 34
        }
      },
      "source": [
        "# test\n",
        "lower_it([\"This\", \"WILL\", \"Be\", \"Lowercased\", \":)\"])"
      ],
      "execution_count": 0,
      "outputs": [
        {
          "output_type": "execute_result",
          "data": {
            "text/plain": [
              "['this', 'will', 'be', 'lowercased', ':)']"
            ]
          },
          "metadata": {
            "tags": []
          },
          "execution_count": 80
        }
      ]
    },
    {
      "cell_type": "code",
      "metadata": {
        "id": "83UAdwDDI4x9",
        "colab_type": "code",
        "colab": {}
      },
      "source": [
        "data['review'] = data['review'].apply(lower_it)"
      ],
      "execution_count": 0,
      "outputs": []
    },
    {
      "cell_type": "code",
      "metadata": {
        "id": "fpMOGFhxJ44v",
        "colab_type": "code",
        "outputId": "e9c47abe-3daf-4f5c-842b-04a8eaa51bf4",
        "colab": {
          "base_uri": "https://localhost:8080/",
          "height": 34
        }
      },
      "source": [
        "data['review'][0][:7]"
      ],
      "execution_count": 0,
      "outputs": [
        {
          "output_type": "execute_result",
          "data": {
            "text/plain": [
              "['\"', 'been', 'on', 'the', 'depo', 'injection', 'since']"
            ]
          },
          "metadata": {
            "tags": []
          },
          "execution_count": 85
        }
      ]
    },
    {
      "cell_type": "markdown",
      "metadata": {
        "id": "KTR_OyoQJteu",
        "colab_type": "text"
      },
      "source": [
        "### Remove"
      ]
    },
    {
      "cell_type": "code",
      "metadata": {
        "id": "oqucrmlmDh-3",
        "colab_type": "code",
        "colab": {}
      },
      "source": [
        "def remove_stops(list_of_str):\n",
        "  return [word for word in list_of_str if word not in remove_list]"
      ],
      "execution_count": 0,
      "outputs": []
    },
    {
      "cell_type": "code",
      "metadata": {
        "id": "jAqFRl36Dic-",
        "colab_type": "code",
        "outputId": "9c570677-c831-4982-9277-6a55b224fb8a",
        "colab": {
          "base_uri": "https://localhost:8080/",
          "height": 34
        }
      },
      "source": [
        "# test\n",
        "remove_stops([\"this\", \"didn't\", \"break\", \"before\", \"because\", \"i\", \"said\", \"no\", \":(\"])"
      ],
      "execution_count": 0,
      "outputs": [
        {
          "output_type": "execute_result",
          "data": {
            "text/plain": [
              "['break', 'said', ':(']"
            ]
          },
          "metadata": {
            "tags": []
          },
          "execution_count": 76
        }
      ]
    },
    {
      "cell_type": "code",
      "metadata": {
        "id": "5QC97jY_Ditb",
        "colab_type": "code",
        "colab": {}
      },
      "source": [
        "data['review'] = data['review'].apply(remove_stops)"
      ],
      "execution_count": 0,
      "outputs": []
    },
    {
      "cell_type": "code",
      "metadata": {
        "id": "zcliUTgfJzTv",
        "colab_type": "code",
        "outputId": "4105aec6-ec23-41ce-c5ae-a8d31baa59b5",
        "colab": {
          "base_uri": "https://localhost:8080/",
          "height": 34
        }
      },
      "source": [
        "data['review'][0][:7]"
      ],
      "execution_count": 0,
      "outputs": [
        {
          "output_type": "execute_result",
          "data": {
            "text/plain": [
              "['depo', 'injection', 'since', 'january', '2015', 'bleeding', 'stopped']"
            ]
          },
          "metadata": {
            "tags": []
          },
          "execution_count": 89
        }
      ]
    },
    {
      "cell_type": "markdown",
      "metadata": {
        "id": "JUOgoTuLR_3P",
        "colab_type": "text"
      },
      "source": [
        "### Lemmatize"
      ]
    },
    {
      "cell_type": "code",
      "metadata": {
        "id": "dR5Y0rbcSAGw",
        "colab_type": "code",
        "colab": {}
      },
      "source": [
        "from nltk.stem import WordNetLemmatizer"
      ],
      "execution_count": 0,
      "outputs": []
    },
    {
      "cell_type": "code",
      "metadata": {
        "id": "VPxBEA8RfcA1",
        "colab_type": "code",
        "colab": {}
      },
      "source": [
        "from nltk.corpus import wordnet"
      ],
      "execution_count": 0,
      "outputs": []
    },
    {
      "cell_type": "code",
      "metadata": {
        "id": "AH6cP9VjSWzW",
        "colab_type": "code",
        "outputId": "f94ff275-26c9-473c-965f-07de68cb123f",
        "colab": {
          "base_uri": "https://localhost:8080/",
          "height": 67
        }
      },
      "source": [
        "import nltk\n",
        "nltk.download('wordnet')"
      ],
      "execution_count": 0,
      "outputs": [
        {
          "output_type": "stream",
          "text": [
            "[nltk_data] Downloading package wordnet to /root/nltk_data...\n",
            "[nltk_data]   Unzipping corpora/wordnet.zip.\n"
          ],
          "name": "stdout"
        },
        {
          "output_type": "execute_result",
          "data": {
            "text/plain": [
              "True"
            ]
          },
          "metadata": {
            "tags": []
          },
          "execution_count": 94
        }
      ]
    },
    {
      "cell_type": "code",
      "metadata": {
        "id": "Wb1cchlhVO3p",
        "colab_type": "code",
        "outputId": "0d657fca-80dc-442f-af2f-3697c0c9dff5",
        "colab": {
          "base_uri": "https://localhost:8080/",
          "height": 84
        }
      },
      "source": [
        "import nltk\n",
        "nltk.download('averaged_perceptron_tagger')"
      ],
      "execution_count": 0,
      "outputs": [
        {
          "output_type": "stream",
          "text": [
            "[nltk_data] Downloading package averaged_perceptron_tagger to\n",
            "[nltk_data]     /root/nltk_data...\n",
            "[nltk_data]   Unzipping taggers/averaged_perceptron_tagger.zip.\n"
          ],
          "name": "stdout"
        },
        {
          "output_type": "execute_result",
          "data": {
            "text/plain": [
              "True"
            ]
          },
          "metadata": {
            "tags": []
          },
          "execution_count": 108
        }
      ]
    },
    {
      "cell_type": "code",
      "metadata": {
        "id": "OG36I7G3iEmm",
        "colab_type": "code",
        "colab": {}
      },
      "source": [
        "lemmatizer = WordNetLemmatizer()"
      ],
      "execution_count": 0,
      "outputs": []
    },
    {
      "cell_type": "code",
      "metadata": {
        "id": "sa1jvytcmuw6",
        "colab_type": "code",
        "outputId": "30739b96-f3c1-4d68-e065-51d9427cf45e",
        "colab": {
          "base_uri": "https://localhost:8080/",
          "height": 34
        }
      },
      "source": [
        "thedict = {'a':1}\n"
      ],
      "execution_count": 0,
      "outputs": [
        {
          "output_type": "execute_result",
          "data": {
            "text/plain": [
              "NoneType"
            ]
          },
          "metadata": {
            "tags": []
          },
          "execution_count": 128
        }
      ]
    },
    {
      "cell_type": "code",
      "metadata": {
        "id": "x9xhCXIRShFC",
        "colab_type": "code",
        "colab": {}
      },
      "source": [
        "def lemma_list(list_of_str):\n",
        "  \n",
        "  words_pos = nltk.pos_tag(list_of_str) # list of tuples: [('word1', POS1), ('word2', POS2) ... ]\n",
        "  \n",
        "  # need tag_dict because WordNetLemmatizer().lemmatize(word, pos) does not take in things like \"NNP\" for proper noun in pos, need to make it \"n\":\n",
        "  tag_dict = {\"J\": wordnet.ADJ,\n",
        "              \"N\": wordnet.NOUN,\n",
        "              \"V\": wordnet.VERB,\n",
        "              \"R\": wordnet.ADV}\n",
        "  \n",
        "  word_pos_conv = [(word, tag_dict.get(pos[0])) for word, pos in words_pos] # words, pos converted; None if not J, N, V, or R\n",
        "  \n",
        "  return_list = [WordNetLemmatizer().lemmatize(i[0], pos = i[1]) if i[1] != None else WordNetLemmatizer().lemmatize(i[0]) for i in word_pos_conv]\n",
        "\n",
        "  return return_list"
      ],
      "execution_count": 0,
      "outputs": []
    },
    {
      "cell_type": "code",
      "metadata": {
        "id": "aZ3CoQlmS5gU",
        "colab_type": "code",
        "outputId": "42d3f196-afbb-41a0-fa07-7de76e2fe98e",
        "colab": {
          "base_uri": "https://localhost:8080/",
          "height": 235
        }
      },
      "source": [
        "# test\n",
        "lemma_list([\"will\", \"this\", \"work\", \"well\", \"here\", \"?\", \"not\", \"sure\", \"he\", \"ran\", \"jumped\", \"and\", \"flew\"])"
      ],
      "execution_count": 0,
      "outputs": [
        {
          "output_type": "execute_result",
          "data": {
            "text/plain": [
              "['will',\n",
              " 'this',\n",
              " 'work',\n",
              " 'well',\n",
              " 'here',\n",
              " '?',\n",
              " 'not',\n",
              " 'sure',\n",
              " 'he',\n",
              " 'run',\n",
              " 'jumped',\n",
              " 'and',\n",
              " 'fly']"
            ]
          },
          "metadata": {
            "tags": []
          },
          "execution_count": 151
        }
      ]
    },
    {
      "cell_type": "code",
      "metadata": {
        "id": "tKrXdX6hSIjn",
        "colab_type": "code",
        "outputId": "d4d11cb6-1b1e-48e5-9651-8ba2c3089e3a",
        "colab": {
          "base_uri": "https://localhost:8080/",
          "height": 823
        }
      },
      "source": [
        "data['review'] = data['review'].apply(lemma_list)\n",
        "data['review'][0]"
      ],
      "execution_count": 0,
      "outputs": [
        {
          "output_type": "execute_result",
          "data": {
            "text/plain": [
              "['depo',\n",
              " 'injection',\n",
              " 'since',\n",
              " 'january',\n",
              " '2015',\n",
              " 'bleeding',\n",
              " 'stop',\n",
              " 'another',\n",
              " 'injection',\n",
              " 'june',\n",
              " 'bleed',\n",
              " 'month',\n",
              " 'start',\n",
              " 'spot',\n",
              " 'mid-july',\n",
              " 'since',\n",
              " 'approx',\n",
              " 'august',\n",
              " '1st',\n",
              " 'bleed',\n",
              " 'constantly',\n",
              " 'heavy',\n",
              " 'enough',\n",
              " 'use',\n",
              " 'pad',\n",
              " 'almost',\n",
              " 'november',\n",
              " \"i'm\",\n",
              " 'sick',\n",
              " 'bleed',\n",
              " 'fork',\n",
              " 'money',\n",
              " 'sanitary',\n",
              " 'pad',\n",
              " 'bleeding-well',\n",
              " 'long',\n",
              " 'currently',\n",
              " 'await',\n",
              " 'ultrasound',\n",
              " 'see',\n",
              " 'happen',\n",
              " 'would',\n",
              " 'like',\n",
              " 'change',\n",
              " 'contraceptive',\n",
              " 'doctor',\n",
              " 'let',\n",
              " ':(']"
            ]
          },
          "metadata": {
            "tags": []
          },
          "execution_count": 153
        }
      ]
    },
    {
      "cell_type": "markdown",
      "metadata": {
        "id": "WuueXOmZSIuw",
        "colab_type": "text"
      },
      "source": [
        "# Pickle data (frame)"
      ]
    },
    {
      "cell_type": "code",
      "metadata": {
        "id": "CVyTM3-PT1Nu",
        "colab_type": "code",
        "colab": {}
      },
      "source": [
        "import pickle"
      ],
      "execution_count": 0,
      "outputs": []
    },
    {
      "cell_type": "code",
      "metadata": {
        "id": "QaTbYvdaT1Ep",
        "colab_type": "code",
        "colab": {}
      },
      "source": [
        "with open(\"DrugReviewCleaned\", \"wb\") as output_file:\n",
        "  pickle.dump(data, output_file)"
      ],
      "execution_count": 0,
      "outputs": []
    },
    {
      "cell_type": "code",
      "metadata": {
        "id": "AksSMyPESI1C",
        "colab_type": "code",
        "colab": {}
      },
      "source": [
        "with open(\"DrugReviewCleaned\", \"rb\") as input_file:\n",
        "  data = pickle.load(input_file)"
      ],
      "execution_count": 0,
      "outputs": []
    },
    {
      "cell_type": "markdown",
      "metadata": {
        "id": "Lojseu5HspC9",
        "colab_type": "text"
      },
      "source": [
        "# Merging back bag of words for each review into a single string to input into Tokenizer"
      ]
    },
    {
      "cell_type": "code",
      "metadata": {
        "id": "qgpfnSHrs6Ch",
        "colab_type": "code",
        "outputId": "388f1ac2-bbbf-4c78-d83d-b45798dc1c55",
        "colab": {
          "base_uri": "https://localhost:8080/",
          "height": 823
        }
      },
      "source": [
        "# before\n",
        "data['review'][0]"
      ],
      "execution_count": 0,
      "outputs": [
        {
          "output_type": "execute_result",
          "data": {
            "text/plain": [
              "['depo',\n",
              " 'injection',\n",
              " 'since',\n",
              " 'january',\n",
              " '2015',\n",
              " 'bleeding',\n",
              " 'stop',\n",
              " 'another',\n",
              " 'injection',\n",
              " 'june',\n",
              " 'bleed',\n",
              " 'month',\n",
              " 'start',\n",
              " 'spot',\n",
              " 'mid-july',\n",
              " 'since',\n",
              " 'approx',\n",
              " 'august',\n",
              " '1st',\n",
              " 'bleed',\n",
              " 'constantly',\n",
              " 'heavy',\n",
              " 'enough',\n",
              " 'use',\n",
              " 'pad',\n",
              " 'almost',\n",
              " 'november',\n",
              " \"i'm\",\n",
              " 'sick',\n",
              " 'bleed',\n",
              " 'fork',\n",
              " 'money',\n",
              " 'sanitary',\n",
              " 'pad',\n",
              " 'bleeding-well',\n",
              " 'long',\n",
              " 'currently',\n",
              " 'await',\n",
              " 'ultrasound',\n",
              " 'see',\n",
              " 'happen',\n",
              " 'would',\n",
              " 'like',\n",
              " 'change',\n",
              " 'contraceptive',\n",
              " 'doctor',\n",
              " 'let',\n",
              " ':(']"
            ]
          },
          "metadata": {
            "tags": []
          },
          "execution_count": 8
        }
      ]
    },
    {
      "cell_type": "code",
      "metadata": {
        "id": "NoBgEEG8sxS0",
        "colab_type": "code",
        "outputId": "eccabcdf-0d9e-40ed-945d-95c876c3b885",
        "colab": {
          "base_uri": "https://localhost:8080/",
          "height": 54
        }
      },
      "source": [
        "# after ; join the strings back so we can do keras.preprocessing.text.Tokenizer().text_to_matrix and get matrix of counts/freq/tfidf back\n",
        "data['review'] = data['review'].apply(lambda x: ' '.join(x))\n",
        "data['review'][0]"
      ],
      "execution_count": 5,
      "outputs": [
        {
          "output_type": "execute_result",
          "data": {
            "text/plain": [
              "\"depo injection since january 2015 bleeding stop another injection june bleed month start spot mid-july since approx august 1st bleed constantly heavy enough use pad almost november i'm sick bleed fork money sanitary pad bleeding-well long currently await ultrasound see happen would like change contraceptive doctor let :(\""
            ]
          },
          "metadata": {
            "tags": []
          },
          "execution_count": 5
        }
      ]
    },
    {
      "cell_type": "markdown",
      "metadata": {
        "id": "KkyjIOo7EseM",
        "colab_type": "text"
      },
      "source": [
        "# Formatting inputs and outputs"
      ]
    },
    {
      "cell_type": "code",
      "metadata": {
        "id": "lT4VLQwENfCA",
        "colab_type": "code",
        "outputId": "c9531a35-ce1c-4f34-dca8-823e56c16115",
        "colab": {
          "base_uri": "https://localhost:8080/",
          "height": 79
        }
      },
      "source": [
        "from keras.preprocessing.text import Tokenizer # we're going to import this anyway for NN, just not gonna use it as much to clean"
      ],
      "execution_count": 6,
      "outputs": [
        {
          "output_type": "stream",
          "text": [
            "Using TensorFlow backend.\n"
          ],
          "name": "stderr"
        },
        {
          "output_type": "display_data",
          "data": {
            "text/html": [
              "<p style=\"color: red;\">\n",
              "The default version of TensorFlow in Colab will soon switch to TensorFlow 2.x.<br>\n",
              "We recommend you <a href=\"https://www.tensorflow.org/guide/migrate\" target=\"_blank\">upgrade</a> now \n",
              "or ensure your notebook will continue to use TensorFlow 1.x via the <code>%tensorflow_version 1.x</code> magic:\n",
              "<a href=\"https://colab.research.google.com/notebooks/tensorflow_version.ipynb\" target=\"_blank\">more info</a>.</p>\n"
            ],
            "text/plain": [
              "<IPython.core.display.HTML object>"
            ]
          },
          "metadata": {
            "tags": []
          }
        }
      ]
    },
    {
      "cell_type": "markdown",
      "metadata": {
        "id": "8qV5KCGLDAjs",
        "colab_type": "text"
      },
      "source": [
        "## Checking to see what we want\n",
        "Do we want sequences? : [[1], [3], [1], [4], [5], [2], [6], [1], [2]]\n",
        "\n",
        "or a matrix: \n",
        "\n",
        "array([[0.        , 0.33333333, 0.22222222, 0.11111111, 0.11111111,\n",
        "        0.11111111, 0.11111111]])\n",
        "note: matrices will have first column/value = 0\n",
        "\n",
        "\n",
        "And matrix based on frequency, having it/not (0 or 1), tf-idf?"
      ]
    },
    {
      "cell_type": "code",
      "metadata": {
        "id": "mJguofODxEg2",
        "colab_type": "code",
        "colab": {}
      },
      "source": [
        "kToken = Tokenizer()"
      ],
      "execution_count": 0,
      "outputs": []
    },
    {
      "cell_type": "code",
      "metadata": {
        "id": "pmRRmdTNxEW0",
        "colab_type": "code",
        "colab": {}
      },
      "source": [
        "kToken.fit_on_texts([\"this\", \"is\", \"this\", \"string\", \"but\", \"for\", \"testing\", \"this\", \"for\"])"
      ],
      "execution_count": 0,
      "outputs": []
    },
    {
      "cell_type": "code",
      "metadata": {
        "id": "XuUPHVmkxENE",
        "colab_type": "code",
        "colab": {}
      },
      "source": [
        "sequences = kToken.texts_to_sequences([\"this\", \"is\", \"this\", \"string\", \"but\", \"for\", \"testing\", \"this\", \"for\"])"
      ],
      "execution_count": 0,
      "outputs": []
    },
    {
      "cell_type": "code",
      "metadata": {
        "id": "7N3N8Yp3xEDa",
        "colab_type": "code",
        "outputId": "1946ee64-2329-42d5-af1e-74da0b8cd35f",
        "colab": {
          "base_uri": "https://localhost:8080/",
          "height": 34
        }
      },
      "source": [
        "sequences"
      ],
      "execution_count": 0,
      "outputs": [
        {
          "output_type": "execute_result",
          "data": {
            "text/plain": [
              "[[1], [3], [1], [4], [5], [2], [6], [1], [2]]"
            ]
          },
          "metadata": {
            "tags": []
          },
          "execution_count": 13
        }
      ]
    },
    {
      "cell_type": "code",
      "metadata": {
        "id": "2gCZyQwQzihe",
        "colab_type": "code",
        "outputId": "d70ed1c3-5daa-418b-fdc4-0630c9702fd0",
        "colab": {
          "base_uri": "https://localhost:8080/",
          "height": 34
        }
      },
      "source": [
        "kToken.word_index"
      ],
      "execution_count": 0,
      "outputs": [
        {
          "output_type": "execute_result",
          "data": {
            "text/plain": [
              "{'but': 5, 'for': 2, 'is': 3, 'string': 4, 'testing': 6, 'this': 1}"
            ]
          },
          "metadata": {
            "tags": []
          },
          "execution_count": 19
        }
      ]
    },
    {
      "cell_type": "code",
      "metadata": {
        "id": "MdQacU0rzivN",
        "colab_type": "code",
        "colab": {}
      },
      "source": [
        "ohe = kToken.texts_to_matrix([[\"this\", \"is\", \"this\", \"string\", \"but\", \"for\", \"testing\", \"this\", \"for\"], [\"this\", \"is\", \"testing\", \"this\"]], mode = 'count')"
      ],
      "execution_count": 0,
      "outputs": []
    },
    {
      "cell_type": "code",
      "metadata": {
        "id": "t2e_cUK2zioq",
        "colab_type": "code",
        "outputId": "2bb854c3-9c07-4948-9cb5-b475baec692f",
        "colab": {
          "base_uri": "https://localhost:8080/",
          "height": 50
        }
      },
      "source": [
        "ohe"
      ],
      "execution_count": 0,
      "outputs": [
        {
          "output_type": "execute_result",
          "data": {
            "text/plain": [
              "array([[0., 3., 2., 1., 1., 1., 1.],\n",
              "       [0., 2., 0., 1., 0., 0., 1.]])"
            ]
          },
          "metadata": {
            "tags": []
          },
          "execution_count": 48
        }
      ]
    },
    {
      "cell_type": "markdown",
      "metadata": {
        "id": "jVyntMmx_vL5",
        "colab_type": "text"
      },
      "source": [
        "### We probably want count/frequency or tf-idf; freq is just count/total in that list\n",
        "Just don't do binary because it doesn't give us as much information. Should probably test all"
      ]
    },
    {
      "cell_type": "markdown",
      "metadata": {
        "id": "cg3pyJRpNfe_",
        "colab_type": "text"
      },
      "source": [
        "## Make inputs and output into an acceptable format (count-matrices for inputs, ohe the outputs)"
      ]
    },
    {
      "cell_type": "markdown",
      "metadata": {
        "id": "5Mi00QBpNfkB",
        "colab_type": "text"
      },
      "source": [
        "### Inputs"
      ]
    },
    {
      "cell_type": "code",
      "metadata": {
        "id": "jOdAgcKLNfof",
        "colab_type": "code",
        "colab": {}
      },
      "source": [
        "kToken = Tokenizer(num_words = 5000)"
      ],
      "execution_count": 0,
      "outputs": []
    },
    {
      "cell_type": "code",
      "metadata": {
        "id": "cpqxeTEYNft-",
        "colab_type": "code",
        "colab": {}
      },
      "source": [
        "# fit on texts\n",
        "kToken.fit_on_texts(data['review'])"
      ],
      "execution_count": 0,
      "outputs": []
    },
    {
      "cell_type": "code",
      "metadata": {
        "id": "g6Y5Mr3yxYIM",
        "colab_type": "code",
        "colab": {}
      },
      "source": [
        "# text to matrix\n",
        "input_matrix = kToken.texts_to_matrix(data['review'], mode = 'count')\n"
      ],
      "execution_count": 0,
      "outputs": []
    },
    {
      "cell_type": "code",
      "metadata": {
        "id": "Db_g9kwikWJU",
        "colab_type": "code",
        "colab": {
          "base_uri": "https://localhost:8080/",
          "height": 34
        },
        "outputId": "b3b7a7ad-ccda-46a7-e488-3d351af91e74"
      },
      "source": [
        "input_matrix.shape"
      ],
      "execution_count": 19,
      "outputs": [
        {
          "output_type": "execute_result",
          "data": {
            "text/plain": [
              "(215063, 5000)"
            ]
          },
          "metadata": {
            "tags": []
          },
          "execution_count": 19
        }
      ]
    },
    {
      "cell_type": "code",
      "metadata": {
        "colab_type": "code",
        "id": "827t_vloA7zC",
        "colab": {}
      },
      "source": [
        "# there are 49,319 tokens in all 215,063 reviews; first column is 0;"
      ],
      "execution_count": 0,
      "outputs": []
    },
    {
      "cell_type": "code",
      "metadata": {
        "id": "k05DKjOPAyk0",
        "colab_type": "code",
        "colab": {}
      },
      "source": [
        "################################################################"
      ],
      "execution_count": 0,
      "outputs": []
    },
    {
      "cell_type": "code",
      "metadata": {
        "id": "flxCsN0F_iDE",
        "colab_type": "code",
        "colab": {
          "base_uri": "https://localhost:8080/",
          "height": 34
        },
        "outputId": "d39f4053-265e-438f-f8e5-a764033bc0eb"
      },
      "source": [
        "# for later to find the most commonly used words\n",
        "sequences = kToken.texts_to_sequences(data['review'])"
      ],
      "execution_count": 37,
      "outputs": [
        {
          "output_type": "execute_result",
          "data": {
            "text/plain": [
              "[12, 10, 1, 637, 2433, 41, 65, 2888, 1232]"
            ]
          },
          "metadata": {
            "tags": []
          },
          "execution_count": 37
        }
      ]
    },
    {
      "cell_type": "code",
      "metadata": {
        "id": "vnzxbulV_vsq",
        "colab_type": "code",
        "colab": {
          "base_uri": "https://localhost:8080/",
          "height": 34
        },
        "outputId": "6930acd9-e314-4bde-f5e8-2967f135b04c"
      },
      "source": [
        "len(sequences[0]), len(sequences[1]) "
      ],
      "execution_count": 39,
      "outputs": [
        {
          "output_type": "execute_result",
          "data": {
            "text/plain": [
              "(9, 64)"
            ]
          },
          "metadata": {
            "tags": []
          },
          "execution_count": 39
        }
      ]
    },
    {
      "cell_type": "code",
      "metadata": {
        "id": "43yp22-A48w0",
        "colab_type": "code",
        "colab": {
          "base_uri": "https://localhost:8080/",
          "height": 34
        },
        "outputId": "9c2f7ed4-3503-4c3b-c252-8bdf8b7a91bd"
      },
      "source": [
        "decoder = kToken.word_index\n",
        "len(decoder)"
      ],
      "execution_count": 36,
      "outputs": [
        {
          "output_type": "execute_result",
          "data": {
            "text/plain": [
              "49319"
            ]
          },
          "metadata": {
            "tags": []
          },
          "execution_count": 36
        }
      ]
    },
    {
      "cell_type": "code",
      "metadata": {
        "id": "O0mnCffd_9KX",
        "colab_type": "code",
        "colab": {}
      },
      "source": [
        "####################################################################"
      ],
      "execution_count": 0,
      "outputs": []
    },
    {
      "cell_type": "code",
      "metadata": {
        "id": "Wc4mx1Kr_v2g",
        "colab_type": "code",
        "colab": {}
      },
      "source": [
        ""
      ],
      "execution_count": 0,
      "outputs": []
    },
    {
      "cell_type": "code",
      "metadata": {
        "id": "L-VMM47g5ddO",
        "colab_type": "code",
        "colab": {}
      },
      "source": [
        ""
      ],
      "execution_count": 0,
      "outputs": []
    },
    {
      "cell_type": "markdown",
      "metadata": {
        "id": "nEXCavxKJAib",
        "colab_type": "text"
      },
      "source": [
        "### Outputs"
      ]
    },
    {
      "cell_type": "code",
      "metadata": {
        "id": "2XEkloPlJCK6",
        "colab_type": "code",
        "colab": {}
      },
      "source": [
        "import pandas as pd"
      ],
      "execution_count": 0,
      "outputs": []
    },
    {
      "cell_type": "code",
      "metadata": {
        "id": "D-swlCF9JDh1",
        "colab_type": "code",
        "outputId": "5ef876eb-9dab-422e-a7fd-9aad51bc066a",
        "colab": {
          "base_uri": "https://localhost:8080/",
          "height": 34
        }
      },
      "source": [
        "outputs = pd.get_dummies(data['rating']).reset_index(drop = True)\n",
        "outputs.shape"
      ],
      "execution_count": 24,
      "outputs": [
        {
          "output_type": "execute_result",
          "data": {
            "text/plain": [
              "(215063, 10)"
            ]
          },
          "metadata": {
            "tags": []
          },
          "execution_count": 24
        }
      ]
    },
    {
      "cell_type": "markdown",
      "metadata": {
        "id": "RpYeFFKNziTS",
        "colab_type": "text"
      },
      "source": [
        "### Binning; do later"
      ]
    },
    {
      "cell_type": "code",
      "metadata": {
        "id": "lu4lie7jfChv",
        "colab_type": "code",
        "colab": {}
      },
      "source": [
        ""
      ],
      "execution_count": 0,
      "outputs": []
    },
    {
      "cell_type": "code",
      "metadata": {
        "id": "E4wiBzt4fCfn",
        "colab_type": "code",
        "colab": {}
      },
      "source": [
        ""
      ],
      "execution_count": 0,
      "outputs": []
    },
    {
      "cell_type": "markdown",
      "metadata": {
        "id": "fBpTcXDWCbw2",
        "colab_type": "text"
      },
      "source": [
        "### Split data"
      ]
    },
    {
      "cell_type": "code",
      "metadata": {
        "id": "m_sSwV91EnDn",
        "colab_type": "code",
        "colab": {
          "base_uri": "https://localhost:8080/",
          "height": 34
        },
        "outputId": "8073f45f-d75b-47c5-c592-8a110f988533"
      },
      "source": [
        "input_matrix.shape[0] # 215063"
      ],
      "execution_count": 46,
      "outputs": [
        {
          "output_type": "execute_result",
          "data": {
            "text/plain": [
              "215063"
            ]
          },
          "metadata": {
            "tags": []
          },
          "execution_count": 46
        }
      ]
    },
    {
      "cell_type": "code",
      "metadata": {
        "id": "8lhiLhUjJ9L1",
        "colab_type": "code",
        "colab": {
          "base_uri": "https://localhost:8080/",
          "height": 34
        },
        "outputId": "30bccd5e-920a-4a40-cff3-8fbcad58ec85"
      },
      "source": [
        "type(input_matrix) # should make outputs an ndarray also"
      ],
      "execution_count": 54,
      "outputs": [
        {
          "output_type": "execute_result",
          "data": {
            "text/plain": [
              "numpy.ndarray"
            ]
          },
          "metadata": {
            "tags": []
          },
          "execution_count": 54
        }
      ]
    },
    {
      "cell_type": "code",
      "metadata": {
        "id": "IPYkgpSPSqFn",
        "colab_type": "code",
        "colab": {
          "base_uri": "https://localhost:8080/",
          "height": 34
        },
        "outputId": "318897be-934e-4599-d3fc-f069de69980c"
      },
      "source": [
        "outputs = np.array(outputs) # making outputs an ndarray\n",
        "type(outputs), outputs.shape"
      ],
      "execution_count": 71,
      "outputs": [
        {
          "output_type": "execute_result",
          "data": {
            "text/plain": [
              "(numpy.ndarray, (215063, 10))"
            ]
          },
          "metadata": {
            "tags": []
          },
          "execution_count": 71
        }
      ]
    },
    {
      "cell_type": "code",
      "metadata": {
        "id": "HRfm6iVWCbnF",
        "colab_type": "code",
        "colab": {
          "base_uri": "https://localhost:8080/",
          "height": 34
        },
        "outputId": "a0029523-f2cd-41c3-829e-4ffa591f94e4"
      },
      "source": [
        "train_size = round(.75*input_matrix.shape[0])\n",
        "test_size = input_matrix.shape[0] - train_size\n",
        "train_size, test_size, train_size + test_size # 161297, 53766, 215063"
      ],
      "execution_count": 48,
      "outputs": [
        {
          "output_type": "execute_result",
          "data": {
            "text/plain": [
              "(161297, 53766, 215063)"
            ]
          },
          "metadata": {
            "tags": []
          },
          "execution_count": 48
        }
      ]
    },
    {
      "cell_type": "code",
      "metadata": {
        "id": "JmaEMo2kOgGj",
        "colab_type": "code",
        "colab": {}
      },
      "source": [
        "import random"
      ],
      "execution_count": 0,
      "outputs": []
    },
    {
      "cell_type": "code",
      "metadata": {
        "id": "S75iOsndCbfm",
        "colab_type": "code",
        "colab": {
          "base_uri": "https://localhost:8080/",
          "height": 34
        },
        "outputId": "026f3e19-f48f-4a46-9617-8b92e70631f9"
      },
      "source": [
        "grab_these_train = random.sample(range(1, input_matrix.shape[0]), k = train_size) # picks k unique random elements from sample\n",
        "grab_these_train[:5]"
      ],
      "execution_count": 69,
      "outputs": [
        {
          "output_type": "execute_result",
          "data": {
            "text/plain": [
              "[100525, 180985, 208914, 57514, 26613]"
            ]
          },
          "metadata": {
            "tags": []
          },
          "execution_count": 69
        }
      ]
    },
    {
      "cell_type": "code",
      "metadata": {
        "id": "QoklnyghKwUu",
        "colab_type": "code",
        "colab": {}
      },
      "source": [
        "train_input = input_matrix[grab_these_train]\n",
        "test_input = np.delete(input_matrix, grab_these_train, 0)\n",
        "\n",
        "train_output = outputs[grab_these_train]\n",
        "test_output = np.delete(outputs, grab_these_train, 0)"
      ],
      "execution_count": 0,
      "outputs": []
    },
    {
      "cell_type": "code",
      "metadata": {
        "id": "qq7VEM72Kwcq",
        "colab_type": "code",
        "colab": {
          "base_uri": "https://localhost:8080/",
          "height": 34
        },
        "outputId": "dd06be62-db6a-460f-c398-8f5463e94650"
      },
      "source": [
        "train_input.shape, train_output.shape, test_input.shape, test_output.shape"
      ],
      "execution_count": 73,
      "outputs": [
        {
          "output_type": "execute_result",
          "data": {
            "text/plain": [
              "((161297, 5000), (161297, 10), (53766, 5000), (53766, 10))"
            ]
          },
          "metadata": {
            "tags": []
          },
          "execution_count": 73
        }
      ]
    },
    {
      "cell_type": "code",
      "metadata": {
        "id": "qMp6T9BuKwnY",
        "colab_type": "code",
        "colab": {}
      },
      "source": [
        ""
      ],
      "execution_count": 0,
      "outputs": []
    },
    {
      "cell_type": "code",
      "metadata": {
        "id": "_uZLNUoYKwrU",
        "colab_type": "code",
        "colab": {}
      },
      "source": [
        ""
      ],
      "execution_count": 0,
      "outputs": []
    },
    {
      "cell_type": "code",
      "metadata": {
        "id": "xDyGAu0pKwv8",
        "colab_type": "code",
        "colab": {}
      },
      "source": [
        ""
      ],
      "execution_count": 0,
      "outputs": []
    },
    {
      "cell_type": "code",
      "metadata": {
        "id": "ZarLTmScKw04",
        "colab_type": "code",
        "colab": {}
      },
      "source": [
        ""
      ],
      "execution_count": 0,
      "outputs": []
    },
    {
      "cell_type": "markdown",
      "metadata": {
        "id": "puUHXghKziLi",
        "colab_type": "text"
      },
      "source": [
        "# Creating the model"
      ]
    },
    {
      "cell_type": "code",
      "metadata": {
        "id": "2wyNf25OVG9b",
        "colab_type": "code",
        "colab": {}
      },
      "source": [
        "from keras import Sequential\n",
        "from keras.layers import Dense"
      ],
      "execution_count": 0,
      "outputs": []
    },
    {
      "cell_type": "code",
      "metadata": {
        "id": "8631MSSTNfLg",
        "colab_type": "code",
        "colab": {
          "base_uri": "https://localhost:8080/",
          "height": 70
        },
        "outputId": "8d251a4e-618b-4054-8320-d90b9e709292"
      },
      "source": [
        "model = Sequential()"
      ],
      "execution_count": 77,
      "outputs": [
        {
          "output_type": "stream",
          "text": [
            "WARNING:tensorflow:From /usr/local/lib/python3.6/dist-packages/keras/backend/tensorflow_backend.py:66: The name tf.get_default_graph is deprecated. Please use tf.compat.v1.get_default_graph instead.\n",
            "\n"
          ],
          "name": "stdout"
        }
      ]
    },
    {
      "cell_type": "code",
      "metadata": {
        "id": "Xmd0gazUNfUD",
        "colab_type": "code",
        "colab": {}
      },
      "source": [
        "model.add(Dense(units = 50, activation = 'relu', input_shape = (5000,)))\n",
        "model.add(Dense(units = 25, activation = 'relu'))\n",
        "model.add(Dense(units = 15, activation = 'relu'))\n",
        "model.add(Dense(units = 8, activation = 'relu'))\n",
        "model.add(Dense(units = 10, activation = 'softmax'))"
      ],
      "execution_count": 0,
      "outputs": []
    },
    {
      "cell_type": "code",
      "metadata": {
        "id": "NLDcXSWgNfas",
        "colab_type": "code",
        "colab": {
          "base_uri": "https://localhost:8080/",
          "height": 104
        },
        "outputId": "6f02f757-c299-4839-fd36-a03cdda9ada3"
      },
      "source": [
        "model.compile(optimizer = 'SGD',\n",
        "              loss = 'categorical_crossentropy',\n",
        "              metrics = ['accuracy'])"
      ],
      "execution_count": 80,
      "outputs": [
        {
          "output_type": "stream",
          "text": [
            "WARNING:tensorflow:From /usr/local/lib/python3.6/dist-packages/keras/optimizers.py:793: The name tf.train.Optimizer is deprecated. Please use tf.compat.v1.train.Optimizer instead.\n",
            "\n",
            "WARNING:tensorflow:From /usr/local/lib/python3.6/dist-packages/keras/backend/tensorflow_backend.py:3576: The name tf.log is deprecated. Please use tf.math.log instead.\n",
            "\n"
          ],
          "name": "stdout"
        }
      ]
    },
    {
      "cell_type": "code",
      "metadata": {
        "id": "KFPPlNtNJDaP",
        "colab_type": "code",
        "colab": {
          "base_uri": "https://localhost:8080/",
          "height": 692
        },
        "outputId": "8c1692a7-0852-4dcd-f7eb-316a3638810f"
      },
      "source": [
        "trained_mod = model.fit(x = train_input,\n",
        "                        y = train_output,\n",
        "                        batch_size = round(train_input.shape[0]/6),\n",
        "                        epochs = 10,\n",
        "                        verbose = 1)"
      ],
      "execution_count": 81,
      "outputs": [
        {
          "output_type": "stream",
          "text": [
            "WARNING:tensorflow:From /tensorflow-1.15.0/python3.6/tensorflow_core/python/ops/math_grad.py:1424: where (from tensorflow.python.ops.array_ops) is deprecated and will be removed in a future version.\n",
            "Instructions for updating:\n",
            "Use tf.where in 2.0, which has the same broadcast rule as np.where\n",
            "WARNING:tensorflow:From /usr/local/lib/python3.6/dist-packages/keras/backend/tensorflow_backend.py:1033: The name tf.assign_add is deprecated. Please use tf.compat.v1.assign_add instead.\n",
            "\n",
            "WARNING:tensorflow:From /usr/local/lib/python3.6/dist-packages/keras/backend/tensorflow_backend.py:1020: The name tf.assign is deprecated. Please use tf.compat.v1.assign instead.\n",
            "\n",
            "WARNING:tensorflow:From /usr/local/lib/python3.6/dist-packages/keras/backend/tensorflow_backend.py:3005: The name tf.Session is deprecated. Please use tf.compat.v1.Session instead.\n",
            "\n",
            "Epoch 1/10\n",
            "WARNING:tensorflow:From /usr/local/lib/python3.6/dist-packages/keras/backend/tensorflow_backend.py:190: The name tf.get_default_session is deprecated. Please use tf.compat.v1.get_default_session instead.\n",
            "\n",
            "WARNING:tensorflow:From /usr/local/lib/python3.6/dist-packages/keras/backend/tensorflow_backend.py:197: The name tf.ConfigProto is deprecated. Please use tf.compat.v1.ConfigProto instead.\n",
            "\n",
            "WARNING:tensorflow:From /usr/local/lib/python3.6/dist-packages/keras/backend/tensorflow_backend.py:207: The name tf.global_variables is deprecated. Please use tf.compat.v1.global_variables instead.\n",
            "\n",
            "WARNING:tensorflow:From /usr/local/lib/python3.6/dist-packages/keras/backend/tensorflow_backend.py:216: The name tf.is_variable_initialized is deprecated. Please use tf.compat.v1.is_variable_initialized instead.\n",
            "\n",
            "WARNING:tensorflow:From /usr/local/lib/python3.6/dist-packages/keras/backend/tensorflow_backend.py:223: The name tf.variables_initializer is deprecated. Please use tf.compat.v1.variables_initializer instead.\n",
            "\n",
            "161297/161297 [==============================] - 13s 83us/step - loss: 2.2983 - acc: 0.3133\n",
            "Epoch 2/10\n",
            "161297/161297 [==============================] - 3s 21us/step - loss: 2.2924 - acc: 0.3154\n",
            "Epoch 3/10\n",
            "161297/161297 [==============================] - 3s 21us/step - loss: 2.2860 - acc: 0.3154\n",
            "Epoch 4/10\n",
            "161297/161297 [==============================] - 3s 21us/step - loss: 2.2795 - acc: 0.3154\n",
            "Epoch 5/10\n",
            "161297/161297 [==============================] - 4s 24us/step - loss: 2.2729 - acc: 0.3154\n",
            "Epoch 6/10\n",
            "161297/161297 [==============================] - 3s 21us/step - loss: 2.2664 - acc: 0.3154\n",
            "Epoch 7/10\n",
            "161297/161297 [==============================] - 3s 21us/step - loss: 2.2600 - acc: 0.3154\n",
            "Epoch 8/10\n",
            "161297/161297 [==============================] - 3s 21us/step - loss: 2.2538 - acc: 0.3154\n",
            "Epoch 9/10\n",
            "161297/161297 [==============================] - 3s 21us/step - loss: 2.2477 - acc: 0.3154\n",
            "Epoch 10/10\n",
            "161297/161297 [==============================] - 3s 21us/step - loss: 2.2417 - acc: 0.3154\n"
          ],
          "name": "stdout"
        }
      ]
    },
    {
      "cell_type": "code",
      "metadata": {
        "id": "e80E6qfwJDWa",
        "colab_type": "code",
        "colab": {}
      },
      "source": [
        "first_preds = model.predict(test_input)"
      ],
      "execution_count": 0,
      "outputs": []
    },
    {
      "cell_type": "code",
      "metadata": {
        "id": "X-vlngI2JDPJ",
        "colab_type": "code",
        "colab": {
          "base_uri": "https://localhost:8080/",
          "height": 50
        },
        "outputId": "20e0f011-eb19-4247-cb72-462e72acde24"
      },
      "source": [
        "model.evaluate(test_input, test_output)"
      ],
      "execution_count": 84,
      "outputs": [
        {
          "output_type": "stream",
          "text": [
            "53766/53766 [==============================] - 4s 71us/step\n"
          ],
          "name": "stdout"
        },
        {
          "output_type": "execute_result",
          "data": {
            "text/plain": [
              "[2.237461912149972, 0.31873302830896116]"
            ]
          },
          "metadata": {
            "tags": []
          },
          "execution_count": 84
        }
      ]
    },
    {
      "cell_type": "code",
      "metadata": {
        "id": "FNTEWha7JCd5",
        "colab_type": "code",
        "colab": {
          "base_uri": "https://localhost:8080/",
          "height": 202
        },
        "outputId": "166661cb-79b7-488f-a564-9f249f9cdce4"
      },
      "source": [
        "data['rating'].value_counts(normalize = True).sort_index(ascending = False)"
      ],
      "execution_count": 92,
      "outputs": [
        {
          "output_type": "execute_result",
          "data": {
            "text/plain": [
              "10.0    0.316210\n",
              "9.0     0.170685\n",
              "8.0     0.116459\n",
              "7.0     0.058341\n",
              "6.0     0.039347\n",
              "5.0     0.049860\n",
              "4.0     0.031019\n",
              "3.0     0.040537\n",
              "2.0     0.043080\n",
              "1.0     0.134463\n",
              "Name: rating, dtype: float64"
            ]
          },
          "metadata": {
            "tags": []
          },
          "execution_count": 92
        }
      ]
    },
    {
      "cell_type": "code",
      "metadata": {
        "id": "EMIJMnW3ZHtP",
        "colab_type": "code",
        "colab": {}
      },
      "source": [
        ""
      ],
      "execution_count": 0,
      "outputs": []
    }
  ]
}