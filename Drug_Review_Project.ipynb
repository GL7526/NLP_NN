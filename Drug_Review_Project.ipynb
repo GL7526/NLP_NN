{
  "nbformat": 4,
  "nbformat_minor": 0,
  "metadata": {
    "kernelspec": {
      "name": "python3",
      "display_name": "Python 3"
    },
    "language_info": {
      "codemirror_mode": {
        "name": "ipython",
        "version": 3
      },
      "file_extension": ".py",
      "mimetype": "text/x-python",
      "name": "python",
      "nbconvert_exporter": "python",
      "pygments_lexer": "ipython3",
      "version": "3.7.3"
    },
    "toc": {
      "base_numbering": 1,
      "nav_menu": {},
      "number_sections": true,
      "sideBar": true,
      "skip_h1_title": false,
      "title_cell": "Table of Contents",
      "title_sidebar": "Contents",
      "toc_cell": false,
      "toc_position": {
        "height": "calc(100% - 180px)",
        "left": "10px",
        "top": "150px",
        "width": "262.225px"
      },
      "toc_section_display": true,
      "toc_window_display": false
    },
    "colab": {
      "name": "Drug Review Project.ipynb",
      "provenance": [],
      "collapsed_sections": [
        "Fh9ozQ9-p4YE",
        "cDNhyh18yDyG",
        "oJkmdNUQybge",
        "rKECTk9LJnWS",
        "8qV5KCGLDAjs"
      ],
      "toc_visible": true,
      "machine_shape": "hm"
    },
    "accelerator": "TPU"
  },
  "cells": [
    {
      "cell_type": "markdown",
      "metadata": {
        "id": "jGNUnvV3PZtw",
        "colab_type": "text"
      },
      "source": [
        "# Initial Imports"
      ]
    },
    {
      "cell_type": "code",
      "metadata": {
        "id": "inuXkxXqPZt2",
        "colab_type": "code",
        "colab": {}
      },
      "source": [
        "import pandas as pd\n",
        "import numpy as np\n",
        "import matplotlib.pyplot as plt"
      ],
      "execution_count": 0,
      "outputs": []
    },
    {
      "cell_type": "markdown",
      "metadata": {
        "id": "uyR-QXudVA_V",
        "colab_type": "text"
      },
      "source": [
        "# Import Data\n",
        "Only need to run once"
      ]
    },
    {
      "cell_type": "code",
      "metadata": {
        "id": "Se8HIf1oSZ8J",
        "colab_type": "code",
        "outputId": "34dda3a2-13e8-436d-8ca8-fa446f57d462",
        "colab": {
          "resources": {
            "http://localhost:8080/nbextensions/google.colab/files.js": {
              "data": "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",
              "ok": true,
              "headers": [
                [
                  "content-type",
                  "application/javascript"
                ]
              ],
              "status": 200,
              "status_text": ""
            }
          },
          "base_uri": "https://localhost:8080/",
          "height": 74
        }
      },
      "source": [
        "from google.colab import files\n",
        "uploaded = files.upload()"
      ],
      "execution_count": 2,
      "outputs": [
        {
          "output_type": "display_data",
          "data": {
            "text/html": [
              "\n",
              "     <input type=\"file\" id=\"files-4fecd327-104d-49bd-b409-44ecf6c990d7\" name=\"files[]\" multiple disabled />\n",
              "     <output id=\"result-4fecd327-104d-49bd-b409-44ecf6c990d7\">\n",
              "      Upload widget is only available when the cell has been executed in the\n",
              "      current browser session. Please rerun this cell to enable.\n",
              "      </output>\n",
              "      <script src=\"/nbextensions/google.colab/files.js\"></script> "
            ],
            "text/plain": [
              "<IPython.core.display.HTML object>"
            ]
          },
          "metadata": {
            "tags": []
          }
        },
        {
          "output_type": "stream",
          "text": [
            "Saving DrugReviewCleaned to DrugReviewCleaned\n"
          ],
          "name": "stdout"
        }
      ]
    },
    {
      "cell_type": "code",
      "metadata": {
        "id": "8SmRE4l9rdSg",
        "colab_type": "code",
        "colab": {}
      },
      "source": [
        "# from google.colab import drive\n",
        "# drive.mount('/content/drive')"
      ],
      "execution_count": 0,
      "outputs": []
    },
    {
      "cell_type": "markdown",
      "metadata": {
        "id": "KCeyRZF7VKKf",
        "colab_type": "text"
      },
      "source": [
        "# Look at Data"
      ]
    },
    {
      "cell_type": "code",
      "metadata": {
        "colab_type": "code",
        "id": "yo70hUyrQSFB",
        "colab": {}
      },
      "source": [
        "# If just uploading files:\n",
        "data1 = pd.read_csv('drugsComTest_raw.tsv', delimiter = '\\t', index_col = 'Unnamed: 0')\n",
        "data2 = pd.read_csv('drugsComTrain_raw.tsv', delimiter = '\\t', index_col = 'Unnamed: 0')\n",
        "# If mounting drive:\n",
        "# data1 = pd.read_csv('drive/My Drive/Colab Notebooks/drugsComTest_raw.tsv', delimiter = '\\t', index_col = 'Unnamed: 0')\n",
        "# data2 = pd.read_csv('drive/My Drive/Colab Notebooks/drugsComTrain_raw.tsv', delimiter = '\\t', index_col = 'Unnamed: 0')\n",
        "\n",
        "# data is split for us 75%/25%"
      ],
      "execution_count": 0,
      "outputs": []
    },
    {
      "cell_type": "code",
      "metadata": {
        "id": "zZmtOz0-PZuM",
        "colab_type": "code",
        "outputId": "62188dd2-d74f-495a-d8c8-dd75b7495ea9",
        "colab": {
          "base_uri": "https://localhost:8080/",
          "height": 195
        }
      },
      "source": [
        "data1.head()"
      ],
      "execution_count": 0,
      "outputs": [
        {
          "output_type": "execute_result",
          "data": {
            "text/html": [
              "<div>\n",
              "<style scoped>\n",
              "    .dataframe tbody tr th:only-of-type {\n",
              "        vertical-align: middle;\n",
              "    }\n",
              "\n",
              "    .dataframe tbody tr th {\n",
              "        vertical-align: top;\n",
              "    }\n",
              "\n",
              "    .dataframe thead th {\n",
              "        text-align: right;\n",
              "    }\n",
              "</style>\n",
              "<table border=\"1\" class=\"dataframe\">\n",
              "  <thead>\n",
              "    <tr style=\"text-align: right;\">\n",
              "      <th></th>\n",
              "      <th>drugName</th>\n",
              "      <th>condition</th>\n",
              "      <th>review</th>\n",
              "      <th>rating</th>\n",
              "      <th>date</th>\n",
              "      <th>usefulCount</th>\n",
              "    </tr>\n",
              "  </thead>\n",
              "  <tbody>\n",
              "    <tr>\n",
              "      <th>206461</th>\n",
              "      <td>Valsartan</td>\n",
              "      <td>Left Ventricular Dysfunction</td>\n",
              "      <td>\"It has no side effect, I take it in combinati...</td>\n",
              "      <td>9.0</td>\n",
              "      <td>May 20, 2012</td>\n",
              "      <td>27</td>\n",
              "    </tr>\n",
              "    <tr>\n",
              "      <th>95260</th>\n",
              "      <td>Guanfacine</td>\n",
              "      <td>ADHD</td>\n",
              "      <td>\"My son is halfway through his fourth week of ...</td>\n",
              "      <td>8.0</td>\n",
              "      <td>April 27, 2010</td>\n",
              "      <td>192</td>\n",
              "    </tr>\n",
              "    <tr>\n",
              "      <th>92703</th>\n",
              "      <td>Lybrel</td>\n",
              "      <td>Birth Control</td>\n",
              "      <td>\"I used to take another oral contraceptive, wh...</td>\n",
              "      <td>5.0</td>\n",
              "      <td>December 14, 2009</td>\n",
              "      <td>17</td>\n",
              "    </tr>\n",
              "    <tr>\n",
              "      <th>138000</th>\n",
              "      <td>Ortho Evra</td>\n",
              "      <td>Birth Control</td>\n",
              "      <td>\"This is my first time using any form of birth...</td>\n",
              "      <td>8.0</td>\n",
              "      <td>November 3, 2015</td>\n",
              "      <td>10</td>\n",
              "    </tr>\n",
              "    <tr>\n",
              "      <th>35696</th>\n",
              "      <td>Buprenorphine / naloxone</td>\n",
              "      <td>Opiate Dependence</td>\n",
              "      <td>\"Suboxone has completely turned my life around...</td>\n",
              "      <td>9.0</td>\n",
              "      <td>November 27, 2016</td>\n",
              "      <td>37</td>\n",
              "    </tr>\n",
              "  </tbody>\n",
              "</table>\n",
              "</div>"
            ],
            "text/plain": [
              "                        drugName  ... usefulCount\n",
              "206461                 Valsartan  ...          27\n",
              "95260                 Guanfacine  ...         192\n",
              "92703                     Lybrel  ...          17\n",
              "138000                Ortho Evra  ...          10\n",
              "35696   Buprenorphine / naloxone  ...          37\n",
              "\n",
              "[5 rows x 6 columns]"
            ]
          },
          "metadata": {
            "tags": []
          },
          "execution_count": 6
        }
      ]
    },
    {
      "cell_type": "code",
      "metadata": {
        "id": "P6x_v9hNPZuV",
        "colab_type": "code",
        "outputId": "e9fb199a-1fc1-4d49-aa8c-238a96605875",
        "colab": {
          "base_uri": "https://localhost:8080/",
          "height": 195
        }
      },
      "source": [
        "data2.head()"
      ],
      "execution_count": 0,
      "outputs": [
        {
          "output_type": "execute_result",
          "data": {
            "text/html": [
              "<div>\n",
              "<style scoped>\n",
              "    .dataframe tbody tr th:only-of-type {\n",
              "        vertical-align: middle;\n",
              "    }\n",
              "\n",
              "    .dataframe tbody tr th {\n",
              "        vertical-align: top;\n",
              "    }\n",
              "\n",
              "    .dataframe thead th {\n",
              "        text-align: right;\n",
              "    }\n",
              "</style>\n",
              "<table border=\"1\" class=\"dataframe\">\n",
              "  <thead>\n",
              "    <tr style=\"text-align: right;\">\n",
              "      <th></th>\n",
              "      <th>drugName</th>\n",
              "      <th>condition</th>\n",
              "      <th>review</th>\n",
              "      <th>rating</th>\n",
              "      <th>date</th>\n",
              "      <th>usefulCount</th>\n",
              "    </tr>\n",
              "  </thead>\n",
              "  <tbody>\n",
              "    <tr>\n",
              "      <th>163740</th>\n",
              "      <td>Mirtazapine</td>\n",
              "      <td>Depression</td>\n",
              "      <td>\"I&amp;#039;ve tried a few antidepressants over th...</td>\n",
              "      <td>10.0</td>\n",
              "      <td>February 28, 2012</td>\n",
              "      <td>22</td>\n",
              "    </tr>\n",
              "    <tr>\n",
              "      <th>206473</th>\n",
              "      <td>Mesalamine</td>\n",
              "      <td>Crohn's Disease, Maintenance</td>\n",
              "      <td>\"My son has Crohn&amp;#039;s disease and has done ...</td>\n",
              "      <td>8.0</td>\n",
              "      <td>May 17, 2009</td>\n",
              "      <td>17</td>\n",
              "    </tr>\n",
              "    <tr>\n",
              "      <th>159672</th>\n",
              "      <td>Bactrim</td>\n",
              "      <td>Urinary Tract Infection</td>\n",
              "      <td>\"Quick reduction of symptoms\"</td>\n",
              "      <td>9.0</td>\n",
              "      <td>September 29, 2017</td>\n",
              "      <td>3</td>\n",
              "    </tr>\n",
              "    <tr>\n",
              "      <th>39293</th>\n",
              "      <td>Contrave</td>\n",
              "      <td>Weight Loss</td>\n",
              "      <td>\"Contrave combines drugs that were used for al...</td>\n",
              "      <td>9.0</td>\n",
              "      <td>March 5, 2017</td>\n",
              "      <td>35</td>\n",
              "    </tr>\n",
              "    <tr>\n",
              "      <th>97768</th>\n",
              "      <td>Cyclafem 1 / 35</td>\n",
              "      <td>Birth Control</td>\n",
              "      <td>\"I have been on this birth control for one cyc...</td>\n",
              "      <td>9.0</td>\n",
              "      <td>October 22, 2015</td>\n",
              "      <td>4</td>\n",
              "    </tr>\n",
              "  </tbody>\n",
              "</table>\n",
              "</div>"
            ],
            "text/plain": [
              "               drugName  ... usefulCount\n",
              "163740      Mirtazapine  ...          22\n",
              "206473       Mesalamine  ...          17\n",
              "159672          Bactrim  ...           3\n",
              "39293          Contrave  ...          35\n",
              "97768   Cyclafem 1 / 35  ...           4\n",
              "\n",
              "[5 rows x 6 columns]"
            ]
          },
          "metadata": {
            "tags": []
          },
          "execution_count": 7
        }
      ]
    },
    {
      "cell_type": "markdown",
      "metadata": {
        "id": "sp1JTAq6Yt6B",
        "colab_type": "text"
      },
      "source": [
        "## Merge Data"
      ]
    },
    {
      "cell_type": "code",
      "metadata": {
        "colab_type": "code",
        "outputId": "68444f74-3874-4dbc-bc46-01a4d44b6c96",
        "id": "ANHPvUC1YrFn",
        "colab": {
          "base_uri": "https://localhost:8080/",
          "height": 195
        }
      },
      "source": [
        "data = pd.concat([data1, data2], axis = 0)\n",
        "data.head()\n",
        "# not completely sure if we should use merged data. we should be able to do the preprocessing with merged data but not train using merged data?\n",
        "# let me know if i'm wrong"
      ],
      "execution_count": 0,
      "outputs": [
        {
          "output_type": "execute_result",
          "data": {
            "text/html": [
              "<div>\n",
              "<style scoped>\n",
              "    .dataframe tbody tr th:only-of-type {\n",
              "        vertical-align: middle;\n",
              "    }\n",
              "\n",
              "    .dataframe tbody tr th {\n",
              "        vertical-align: top;\n",
              "    }\n",
              "\n",
              "    .dataframe thead th {\n",
              "        text-align: right;\n",
              "    }\n",
              "</style>\n",
              "<table border=\"1\" class=\"dataframe\">\n",
              "  <thead>\n",
              "    <tr style=\"text-align: right;\">\n",
              "      <th></th>\n",
              "      <th>drugName</th>\n",
              "      <th>condition</th>\n",
              "      <th>review</th>\n",
              "      <th>rating</th>\n",
              "      <th>date</th>\n",
              "      <th>usefulCount</th>\n",
              "    </tr>\n",
              "  </thead>\n",
              "  <tbody>\n",
              "    <tr>\n",
              "      <th>206461</th>\n",
              "      <td>Valsartan</td>\n",
              "      <td>Left Ventricular Dysfunction</td>\n",
              "      <td>\"It has no side effect, I take it in combinati...</td>\n",
              "      <td>9.0</td>\n",
              "      <td>May 20, 2012</td>\n",
              "      <td>27</td>\n",
              "    </tr>\n",
              "    <tr>\n",
              "      <th>95260</th>\n",
              "      <td>Guanfacine</td>\n",
              "      <td>ADHD</td>\n",
              "      <td>\"My son is halfway through his fourth week of ...</td>\n",
              "      <td>8.0</td>\n",
              "      <td>April 27, 2010</td>\n",
              "      <td>192</td>\n",
              "    </tr>\n",
              "    <tr>\n",
              "      <th>92703</th>\n",
              "      <td>Lybrel</td>\n",
              "      <td>Birth Control</td>\n",
              "      <td>\"I used to take another oral contraceptive, wh...</td>\n",
              "      <td>5.0</td>\n",
              "      <td>December 14, 2009</td>\n",
              "      <td>17</td>\n",
              "    </tr>\n",
              "    <tr>\n",
              "      <th>138000</th>\n",
              "      <td>Ortho Evra</td>\n",
              "      <td>Birth Control</td>\n",
              "      <td>\"This is my first time using any form of birth...</td>\n",
              "      <td>8.0</td>\n",
              "      <td>November 3, 2015</td>\n",
              "      <td>10</td>\n",
              "    </tr>\n",
              "    <tr>\n",
              "      <th>35696</th>\n",
              "      <td>Buprenorphine / naloxone</td>\n",
              "      <td>Opiate Dependence</td>\n",
              "      <td>\"Suboxone has completely turned my life around...</td>\n",
              "      <td>9.0</td>\n",
              "      <td>November 27, 2016</td>\n",
              "      <td>37</td>\n",
              "    </tr>\n",
              "  </tbody>\n",
              "</table>\n",
              "</div>"
            ],
            "text/plain": [
              "                        drugName  ... usefulCount\n",
              "206461                 Valsartan  ...          27\n",
              "95260                 Guanfacine  ...         192\n",
              "92703                     Lybrel  ...          17\n",
              "138000                Ortho Evra  ...          10\n",
              "35696   Buprenorphine / naloxone  ...          37\n",
              "\n",
              "[5 rows x 6 columns]"
            ]
          },
          "metadata": {
            "tags": []
          },
          "execution_count": 63
        }
      ]
    },
    {
      "cell_type": "code",
      "metadata": {
        "id": "kCpA76fZWbd0",
        "colab_type": "code",
        "outputId": "c09d1cb8-522c-47dd-e542-814a0d3f17ed",
        "colab": {
          "base_uri": "https://localhost:8080/",
          "height": 34
        }
      },
      "source": [
        "data.shape, data1.shape, data2.shape, data1.shape[0]+data2.shape[0] #((215063, 6), (161297, 6), (53766, 6), 215063)"
      ],
      "execution_count": 0,
      "outputs": [
        {
          "output_type": "execute_result",
          "data": {
            "text/plain": [
              "((215063, 6), (161297, 6), (53766, 6), 215063)"
            ]
          },
          "metadata": {
            "tags": []
          },
          "execution_count": 40
        }
      ]
    },
    {
      "cell_type": "code",
      "metadata": {
        "id": "BRlayRRtWfeu",
        "colab_type": "code",
        "colab": {}
      },
      "source": [
        "import seaborn as sns"
      ],
      "execution_count": 0,
      "outputs": []
    },
    {
      "cell_type": "code",
      "metadata": {
        "id": "aTcBWPnOWfyU",
        "colab_type": "code",
        "outputId": "0aa9bac1-0c80-4aab-eded-c02e1ebb41e3",
        "colab": {
          "base_uri": "https://localhost:8080/",
          "height": 296
        }
      },
      "source": [
        "sns.distplot(data.rating, kde = False)"
      ],
      "execution_count": 0,
      "outputs": [
        {
          "output_type": "execute_result",
          "data": {
            "text/plain": [
              "<matplotlib.axes._subplots.AxesSubplot at 0x7f3a9b903dd8>"
            ]
          },
          "metadata": {
            "tags": []
          },
          "execution_count": 42
        },
        {
          "output_type": "display_data",
          "data": {
            "image/png": "[encoded data removed]",
            "text/plain": [
              "<Figure size 432x288 with 1 Axes>"
            ]
          },
          "metadata": {
            "tags": []
          }
        }
      ]
    },
    {
      "cell_type": "markdown",
      "metadata": {
        "id": "Fh9ozQ9-p4YE",
        "colab_type": "text"
      },
      "source": [
        "# Testing on one sample"
      ]
    },
    {
      "cell_type": "code",
      "metadata": {
        "id": "Q5WGFY0BWh54",
        "colab_type": "code",
        "outputId": "51e06ae8-e341-4856-e885-8d612a652e8a",
        "colab": {
          "base_uri": "https://localhost:8080/",
          "height": 54
        }
      },
      "source": [
        "a = data['review'][0]\n",
        "a"
      ],
      "execution_count": 0,
      "outputs": [
        {
          "output_type": "execute_result",
          "data": {
            "text/plain": [
              "'\"Been on the depo injection since January 2015, had bleeding but it stopped after a while. When I had another injection in June, I didn&#039;t bleed for about a month. Started spotting mid-July and since approx. August 1st, I have been bleeding constantly, heavy enough to use pads and now it&#039;s almost November! I&#039;m sick of bleeding and forking out money for sanitary pads when I shouldn&#039;t be bleeding-well not as long as I have been now! Currently awaiting an ultrasound to see what is happening. I would like to change my contraceptive but my doctor won&#039;t let me :(\"'"
            ]
          },
          "metadata": {
            "tags": []
          },
          "execution_count": 12
        }
      ]
    },
    {
      "cell_type": "code",
      "metadata": {
        "id": "GyzULM2ZWh_N",
        "colab_type": "code",
        "outputId": "93e16f90-3ca0-4911-e248-f6623c4feb38",
        "colab": {
          "base_uri": "https://localhost:8080/",
          "height": 34
        }
      },
      "source": [
        "a.count('&#039;')"
      ],
      "execution_count": 0,
      "outputs": [
        {
          "output_type": "execute_result",
          "data": {
            "text/plain": [
              "5"
            ]
          },
          "metadata": {
            "tags": []
          },
          "execution_count": 13
        }
      ]
    },
    {
      "cell_type": "code",
      "metadata": {
        "id": "lNuyTq8rWgFt",
        "colab_type": "code",
        "outputId": "4233503e-2d43-48d0-e26a-9a9d00481aa1",
        "colab": {
          "base_uri": "https://localhost:8080/",
          "height": 54
        }
      },
      "source": [
        "a = a.replace('&#039;', \"'\")\n",
        "a"
      ],
      "execution_count": 0,
      "outputs": [
        {
          "output_type": "execute_result",
          "data": {
            "text/plain": [
              "'\"Been on the depo injection since January 2015, had bleeding but it stopped after a while. When I had another injection in June, I didn\\'t bleed for about a month. Started spotting mid-July and since approx. August 1st, I have been bleeding constantly, heavy enough to use pads and now it\\'s almost November! I\\'m sick of bleeding and forking out money for sanitary pads when I shouldn\\'t be bleeding-well not as long as I have been now! Currently awaiting an ultrasound to see what is happening. I would like to change my contraceptive but my doctor won\\'t let me :(\"'"
            ]
          },
          "metadata": {
            "tags": []
          },
          "execution_count": 14
        }
      ]
    },
    {
      "cell_type": "code",
      "metadata": {
        "id": "FHQ-kZiYA9d-",
        "colab_type": "code",
        "outputId": "ffe194a6-126d-47b3-f8e5-8a988273cee7",
        "colab": {
          "base_uri": "https://localhost:8080/",
          "height": 67
        }
      },
      "source": [
        "import nltk\n",
        "nltk.download('punkt')"
      ],
      "execution_count": 0,
      "outputs": [
        {
          "output_type": "stream",
          "text": [
            "[nltk_data] Downloading package punkt to /root/nltk_data...\n",
            "[nltk_data]   Unzipping tokenizers/punkt.zip.\n"
          ],
          "name": "stdout"
        },
        {
          "output_type": "execute_result",
          "data": {
            "text/plain": [
              "True"
            ]
          },
          "metadata": {
            "tags": []
          },
          "execution_count": 15
        }
      ]
    },
    {
      "cell_type": "code",
      "metadata": {
        "id": "yO6wi7fL1iAK",
        "colab_type": "code",
        "outputId": "7b1f3be5-5ee0-467d-869a-0d3ba3a21386",
        "colab": {
          "base_uri": "https://localhost:8080/",
          "height": 79
        }
      },
      "source": [
        "from nltk import word_tokenize\n",
        "from keras.preprocessing.text import Tokenizer"
      ],
      "execution_count": 0,
      "outputs": [
        {
          "output_type": "stream",
          "text": [
            "Using TensorFlow backend.\n"
          ],
          "name": "stderr"
        },
        {
          "output_type": "display_data",
          "data": {
            "text/html": [
              "<p style=\"color: red;\">\n",
              "The default version of TensorFlow in Colab will soon switch to TensorFlow 2.x.<br>\n",
              "We recommend you <a href=\"https://www.tensorflow.org/guide/migrate\" target=\"_blank\">upgrade</a> now \n",
              "or ensure your notebook will continue to use TensorFlow 1.x via the <code>%tensorflow_version 1.x</code> magic:\n",
              "<a href=\"https://colab.research.google.com/notebooks/tensorflow_version.ipynb\" target=\"_blank\">more info</a>.</p>\n"
            ],
            "text/plain": [
              "<IPython.core.display.HTML object>"
            ]
          },
          "metadata": {
            "tags": []
          }
        }
      ]
    },
    {
      "cell_type": "code",
      "metadata": {
        "id": "dfv2pCucA12F",
        "colab_type": "code",
        "colab": {}
      },
      "source": [
        "word_tokenize(a), len(word_tokenize(a))"
      ],
      "execution_count": 0,
      "outputs": []
    },
    {
      "cell_type": "markdown",
      "metadata": {
        "id": "KN4NSqExhDXv",
        "colab_type": "text"
      },
      "source": [
        "# Cleaning all data now instead of just one"
      ]
    },
    {
      "cell_type": "markdown",
      "metadata": {
        "id": "cDNhyh18yDyG",
        "colab_type": "text"
      },
      "source": [
        "## Making all \\&#039; to '"
      ]
    },
    {
      "cell_type": "code",
      "metadata": {
        "id": "8IfobVcGhEsq",
        "colab_type": "code",
        "outputId": "b1228546-08f5-43fa-8e6e-84465918e61e",
        "colab": {
          "base_uri": "https://localhost:8080/",
          "height": 402
        }
      },
      "source": [
        "data = data[['review', 'rating']]\n",
        "data"
      ],
      "execution_count": 0,
      "outputs": [
        {
          "output_type": "execute_result",
          "data": {
            "text/html": [
              "<div>\n",
              "<style scoped>\n",
              "    .dataframe tbody tr th:only-of-type {\n",
              "        vertical-align: middle;\n",
              "    }\n",
              "\n",
              "    .dataframe tbody tr th {\n",
              "        vertical-align: top;\n",
              "    }\n",
              "\n",
              "    .dataframe thead th {\n",
              "        text-align: right;\n",
              "    }\n",
              "</style>\n",
              "<table border=\"1\" class=\"dataframe\">\n",
              "  <thead>\n",
              "    <tr style=\"text-align: right;\">\n",
              "      <th></th>\n",
              "      <th>review</th>\n",
              "      <th>rating</th>\n",
              "    </tr>\n",
              "  </thead>\n",
              "  <tbody>\n",
              "    <tr>\n",
              "      <th>206461</th>\n",
              "      <td>\"It has no side effect, I take it in combinati...</td>\n",
              "      <td>9.0</td>\n",
              "    </tr>\n",
              "    <tr>\n",
              "      <th>95260</th>\n",
              "      <td>\"My son is halfway through his fourth week of ...</td>\n",
              "      <td>8.0</td>\n",
              "    </tr>\n",
              "    <tr>\n",
              "      <th>92703</th>\n",
              "      <td>\"I used to take another oral contraceptive, wh...</td>\n",
              "      <td>5.0</td>\n",
              "    </tr>\n",
              "    <tr>\n",
              "      <th>138000</th>\n",
              "      <td>\"This is my first time using any form of birth...</td>\n",
              "      <td>8.0</td>\n",
              "    </tr>\n",
              "    <tr>\n",
              "      <th>35696</th>\n",
              "      <td>\"Suboxone has completely turned my life around...</td>\n",
              "      <td>9.0</td>\n",
              "    </tr>\n",
              "    <tr>\n",
              "      <th>...</th>\n",
              "      <td>...</td>\n",
              "      <td>...</td>\n",
              "    </tr>\n",
              "    <tr>\n",
              "      <th>159999</th>\n",
              "      <td>\"I have taken Tamoxifen for 5 years. Side effe...</td>\n",
              "      <td>10.0</td>\n",
              "    </tr>\n",
              "    <tr>\n",
              "      <th>140714</th>\n",
              "      <td>\"I&amp;#039;ve been taking Lexapro (escitaploprgra...</td>\n",
              "      <td>9.0</td>\n",
              "    </tr>\n",
              "    <tr>\n",
              "      <th>130945</th>\n",
              "      <td>\"I&amp;#039;m married, 34 years old and I have no ...</td>\n",
              "      <td>8.0</td>\n",
              "    </tr>\n",
              "    <tr>\n",
              "      <th>47656</th>\n",
              "      <td>\"I was prescribed Nucynta for severe neck/shou...</td>\n",
              "      <td>1.0</td>\n",
              "    </tr>\n",
              "    <tr>\n",
              "      <th>113712</th>\n",
              "      <td>\"It works!!!\"</td>\n",
              "      <td>9.0</td>\n",
              "    </tr>\n",
              "  </tbody>\n",
              "</table>\n",
              "<p>215063 rows × 2 columns</p>\n",
              "</div>"
            ],
            "text/plain": [
              "                                                   review  rating\n",
              "206461  \"It has no side effect, I take it in combinati...     9.0\n",
              "95260   \"My son is halfway through his fourth week of ...     8.0\n",
              "92703   \"I used to take another oral contraceptive, wh...     5.0\n",
              "138000  \"This is my first time using any form of birth...     8.0\n",
              "35696   \"Suboxone has completely turned my life around...     9.0\n",
              "...                                                   ...     ...\n",
              "159999  \"I have taken Tamoxifen for 5 years. Side effe...    10.0\n",
              "140714  \"I&#039;ve been taking Lexapro (escitaploprgra...     9.0\n",
              "130945  \"I&#039;m married, 34 years old and I have no ...     8.0\n",
              "47656   \"I was prescribed Nucynta for severe neck/shou...     1.0\n",
              "113712                                      \"It works!!!\"     9.0\n",
              "\n",
              "[215063 rows x 2 columns]"
            ]
          },
          "metadata": {
            "tags": []
          },
          "execution_count": 64
        }
      ]
    },
    {
      "cell_type": "code",
      "metadata": {
        "id": "axWaiYbzxZd3",
        "colab_type": "code",
        "outputId": "ec898227-ec0c-4bba-a072-a2866b556ad5",
        "colab": {
          "base_uri": "https://localhost:8080/",
          "height": 54
        }
      },
      "source": [
        "data['review'][0]"
      ],
      "execution_count": 0,
      "outputs": [
        {
          "output_type": "execute_result",
          "data": {
            "text/plain": [
              "'\"Been on the depo injection since January 2015, had bleeding but it stopped after a while. When I had another injection in June, I didn&#039;t bleed for about a month. Started spotting mid-July and since approx. August 1st, I have been bleeding constantly, heavy enough to use pads and now it&#039;s almost November! I&#039;m sick of bleeding and forking out money for sanitary pads when I shouldn&#039;t be bleeding-well not as long as I have been now! Currently awaiting an ultrasound to see what is happening. I would like to change my contraceptive but my doctor won&#039;t let me :(\"'"
            ]
          },
          "metadata": {
            "tags": []
          },
          "execution_count": 65
        }
      ]
    },
    {
      "cell_type": "code",
      "metadata": {
        "id": "ZIvu5biohE_z",
        "colab_type": "code",
        "outputId": "e542f3d8-2414-4135-9802-d4390d4bc937",
        "colab": {
          "base_uri": "https://localhost:8080/",
          "height": 54
        }
      },
      "source": [
        "data['review'] = data['review'].apply(lambda x: x.replace(\"&#039;\", \"'\"))\n",
        "data['review'][0]"
      ],
      "execution_count": 0,
      "outputs": [
        {
          "output_type": "execute_result",
          "data": {
            "text/plain": [
              "'\"Been on the depo injection since January 2015, had bleeding but it stopped after a while. When I had another injection in June, I didn\\'t bleed for about a month. Started spotting mid-July and since approx. August 1st, I have been bleeding constantly, heavy enough to use pads and now it\\'s almost November! I\\'m sick of bleeding and forking out money for sanitary pads when I shouldn\\'t be bleeding-well not as long as I have been now! Currently awaiting an ultrasound to see what is happening. I would like to change my contraceptive but my doctor won\\'t let me :(\"'"
            ]
          },
          "metadata": {
            "tags": []
          },
          "execution_count": 66
        }
      ]
    },
    {
      "cell_type": "markdown",
      "metadata": {
        "id": "qWdhX8FKhFP9",
        "colab_type": "text"
      },
      "source": [
        "## Things to remove: stopwords and punctuation ;; \n",
        "keras.preprocessing.text.Tokenizer actually splits by spaces (won't need to worry about contractions like didn't), removes punctuation, lowercases everything, and lets you choose the number of words to keep\n",
        "BUT it doesn't remove stop words NOR lemmatizes words"
      ]
    },
    {
      "cell_type": "code",
      "metadata": {
        "id": "oO8ULEmuybQF",
        "colab_type": "code",
        "colab": {}
      },
      "source": [
        "from nltk.corpus import stopwords"
      ],
      "execution_count": 0,
      "outputs": []
    },
    {
      "cell_type": "code",
      "metadata": {
        "id": "gamX106yyp1C",
        "colab_type": "code",
        "outputId": "bb7b452a-08fa-47c9-ddd2-ca2e9f1bfcef",
        "colab": {
          "base_uri": "https://localhost:8080/",
          "height": 67
        }
      },
      "source": [
        "import nltk\n",
        "nltk.download('stopwords')"
      ],
      "execution_count": 0,
      "outputs": [
        {
          "output_type": "stream",
          "text": [
            "[nltk_data] Downloading package stopwords to /root/nltk_data...\n",
            "[nltk_data]   Unzipping corpora/stopwords.zip.\n"
          ],
          "name": "stdout"
        },
        {
          "output_type": "execute_result",
          "data": {
            "text/plain": [
              "True"
            ]
          },
          "metadata": {
            "tags": []
          },
          "execution_count": 28
        }
      ]
    },
    {
      "cell_type": "code",
      "metadata": {
        "id": "m-aWumBbybYq",
        "colab_type": "code",
        "outputId": "febc81f1-ae72-4f23-92f6-bbebf85e3038",
        "colab": {
          "base_uri": "https://localhost:8080/",
          "height": 34
        }
      },
      "source": [
        "remove_list = stopwords.words('english')\n",
        "remove_list[:5] # all lowercase already"
      ],
      "execution_count": 0,
      "outputs": [
        {
          "output_type": "execute_result",
          "data": {
            "text/plain": [
              "['i', 'me', 'my', 'myself', 'we']"
            ]
          },
          "metadata": {
            "tags": []
          },
          "execution_count": 47
        }
      ]
    },
    {
      "cell_type": "code",
      "metadata": {
        "id": "SeNQITgtzxgv",
        "colab_type": "code",
        "colab": {}
      },
      "source": [
        "import string"
      ],
      "execution_count": 0,
      "outputs": []
    },
    {
      "cell_type": "code",
      "metadata": {
        "id": "wwZjqA9pybcm",
        "colab_type": "code",
        "outputId": "f1a59405-3e2c-4470-8a8a-5e4ad8e04334",
        "colab": {
          "base_uri": "https://localhost:8080/",
          "height": 34
        }
      },
      "source": [
        "remove_list += string.punctuation\n",
        "type(remove_list), remove_list[-5:]"
      ],
      "execution_count": 0,
      "outputs": [
        {
          "output_type": "execute_result",
          "data": {
            "text/plain": [
              "(list, ['`', '{', '|', '}', '~'])"
            ]
          },
          "metadata": {
            "tags": []
          },
          "execution_count": 48
        }
      ]
    },
    {
      "cell_type": "markdown",
      "metadata": {
        "id": "oJkmdNUQybge",
        "colab_type": "text"
      },
      "source": [
        "### Tokenize before removing"
      ]
    },
    {
      "cell_type": "code",
      "metadata": {
        "id": "VbQonPHM2vKF",
        "colab_type": "code",
        "colab": {}
      },
      "source": [
        "from nltk.tokenize import word_tokenize, TweetTokenizer\n",
        "# word_tokenize would split \"didn't\" to \"did\" and \"n't\" but TweetTokenizer would keep it \"didn't\""
      ],
      "execution_count": 0,
      "outputs": []
    },
    {
      "cell_type": "code",
      "metadata": {
        "id": "wzULMmlf2roV",
        "colab_type": "code",
        "colab": {}
      },
      "source": [
        "twt_tokenizer = TweetTokenizer()\n",
        "data['review'] = data['review'].apply(lambda x: twt_tokenizer.tokenize(x))\n",
        "data['review'][0]"
      ],
      "execution_count": 0,
      "outputs": []
    },
    {
      "cell_type": "markdown",
      "metadata": {
        "id": "rKECTk9LJnWS",
        "colab_type": "text"
      },
      "source": [
        "### Lowercase before removing"
      ]
    },
    {
      "cell_type": "code",
      "metadata": {
        "id": "9bmnm39VFlzV",
        "colab_type": "code",
        "colab": {}
      },
      "source": [
        "def lower_it(list_of_str):\n",
        "  return [word.lower() for word in list_of_str]"
      ],
      "execution_count": 0,
      "outputs": []
    },
    {
      "cell_type": "code",
      "metadata": {
        "id": "ob_hOsUAIuK2",
        "colab_type": "code",
        "outputId": "dbf9fe1a-08be-4550-c695-3f31a9c0a571",
        "colab": {
          "base_uri": "https://localhost:8080/",
          "height": 34
        }
      },
      "source": [
        "# test\n",
        "lower_it([\"This\", \"WILL\", \"Be\", \"Lowercased\", \":)\"])"
      ],
      "execution_count": 0,
      "outputs": [
        {
          "output_type": "execute_result",
          "data": {
            "text/plain": [
              "['this', 'will', 'be', 'lowercased', ':)']"
            ]
          },
          "metadata": {
            "tags": []
          },
          "execution_count": 80
        }
      ]
    },
    {
      "cell_type": "code",
      "metadata": {
        "id": "83UAdwDDI4x9",
        "colab_type": "code",
        "colab": {}
      },
      "source": [
        "data['review'] = data['review'].apply(lower_it)"
      ],
      "execution_count": 0,
      "outputs": []
    },
    {
      "cell_type": "code",
      "metadata": {
        "id": "fpMOGFhxJ44v",
        "colab_type": "code",
        "outputId": "e9c47abe-3daf-4f5c-842b-04a8eaa51bf4",
        "colab": {
          "base_uri": "https://localhost:8080/",
          "height": 34
        }
      },
      "source": [
        "data['review'][0][:7]"
      ],
      "execution_count": 0,
      "outputs": [
        {
          "output_type": "execute_result",
          "data": {
            "text/plain": [
              "['\"', 'been', 'on', 'the', 'depo', 'injection', 'since']"
            ]
          },
          "metadata": {
            "tags": []
          },
          "execution_count": 85
        }
      ]
    },
    {
      "cell_type": "markdown",
      "metadata": {
        "id": "KTR_OyoQJteu",
        "colab_type": "text"
      },
      "source": [
        "### Remove"
      ]
    },
    {
      "cell_type": "code",
      "metadata": {
        "id": "oqucrmlmDh-3",
        "colab_type": "code",
        "colab": {}
      },
      "source": [
        "def remove_stops(list_of_str):\n",
        "  return [word for word in list_of_str if word not in remove_list]"
      ],
      "execution_count": 0,
      "outputs": []
    },
    {
      "cell_type": "code",
      "metadata": {
        "id": "jAqFRl36Dic-",
        "colab_type": "code",
        "outputId": "9c570677-c831-4982-9277-6a55b224fb8a",
        "colab": {
          "base_uri": "https://localhost:8080/",
          "height": 34
        }
      },
      "source": [
        "# test\n",
        "remove_stops([\"this\", \"didn't\", \"break\", \"before\", \"because\", \"i\", \"said\", \"no\", \":(\"])"
      ],
      "execution_count": 0,
      "outputs": [
        {
          "output_type": "execute_result",
          "data": {
            "text/plain": [
              "['break', 'said', ':(']"
            ]
          },
          "metadata": {
            "tags": []
          },
          "execution_count": 76
        }
      ]
    },
    {
      "cell_type": "code",
      "metadata": {
        "id": "5QC97jY_Ditb",
        "colab_type": "code",
        "colab": {}
      },
      "source": [
        "data['review'] = data['review'].apply(remove_stops)"
      ],
      "execution_count": 0,
      "outputs": []
    },
    {
      "cell_type": "code",
      "metadata": {
        "id": "zcliUTgfJzTv",
        "colab_type": "code",
        "outputId": "4105aec6-ec23-41ce-c5ae-a8d31baa59b5",
        "colab": {
          "base_uri": "https://localhost:8080/",
          "height": 34
        }
      },
      "source": [
        "data['review'][0][:7]"
      ],
      "execution_count": 0,
      "outputs": [
        {
          "output_type": "execute_result",
          "data": {
            "text/plain": [
              "['depo', 'injection', 'since', 'january', '2015', 'bleeding', 'stopped']"
            ]
          },
          "metadata": {
            "tags": []
          },
          "execution_count": 89
        }
      ]
    },
    {
      "cell_type": "markdown",
      "metadata": {
        "id": "JUOgoTuLR_3P",
        "colab_type": "text"
      },
      "source": [
        "### Lemmatize"
      ]
    },
    {
      "cell_type": "code",
      "metadata": {
        "id": "dR5Y0rbcSAGw",
        "colab_type": "code",
        "colab": {}
      },
      "source": [
        "from nltk.stem import WordNetLemmatizer"
      ],
      "execution_count": 0,
      "outputs": []
    },
    {
      "cell_type": "code",
      "metadata": {
        "id": "VPxBEA8RfcA1",
        "colab_type": "code",
        "colab": {}
      },
      "source": [
        "from nltk.corpus import wordnet"
      ],
      "execution_count": 0,
      "outputs": []
    },
    {
      "cell_type": "code",
      "metadata": {
        "id": "AH6cP9VjSWzW",
        "colab_type": "code",
        "outputId": "f94ff275-26c9-473c-965f-07de68cb123f",
        "colab": {
          "base_uri": "https://localhost:8080/",
          "height": 67
        }
      },
      "source": [
        "import nltk\n",
        "nltk.download('wordnet')"
      ],
      "execution_count": 0,
      "outputs": [
        {
          "output_type": "stream",
          "text": [
            "[nltk_data] Downloading package wordnet to /root/nltk_data...\n",
            "[nltk_data]   Unzipping corpora/wordnet.zip.\n"
          ],
          "name": "stdout"
        },
        {
          "output_type": "execute_result",
          "data": {
            "text/plain": [
              "True"
            ]
          },
          "metadata": {
            "tags": []
          },
          "execution_count": 94
        }
      ]
    },
    {
      "cell_type": "code",
      "metadata": {
        "id": "Wb1cchlhVO3p",
        "colab_type": "code",
        "outputId": "0d657fca-80dc-442f-af2f-3697c0c9dff5",
        "colab": {
          "base_uri": "https://localhost:8080/",
          "height": 84
        }
      },
      "source": [
        "import nltk\n",
        "nltk.download('averaged_perceptron_tagger')"
      ],
      "execution_count": 0,
      "outputs": [
        {
          "output_type": "stream",
          "text": [
            "[nltk_data] Downloading package averaged_perceptron_tagger to\n",
            "[nltk_data]     /root/nltk_data...\n",
            "[nltk_data]   Unzipping taggers/averaged_perceptron_tagger.zip.\n"
          ],
          "name": "stdout"
        },
        {
          "output_type": "execute_result",
          "data": {
            "text/plain": [
              "True"
            ]
          },
          "metadata": {
            "tags": []
          },
          "execution_count": 108
        }
      ]
    },
    {
      "cell_type": "code",
      "metadata": {
        "id": "OG36I7G3iEmm",
        "colab_type": "code",
        "colab": {}
      },
      "source": [
        "lemmatizer = WordNetLemmatizer()"
      ],
      "execution_count": 0,
      "outputs": []
    },
    {
      "cell_type": "code",
      "metadata": {
        "id": "sa1jvytcmuw6",
        "colab_type": "code",
        "outputId": "30739b96-f3c1-4d68-e065-51d9427cf45e",
        "colab": {
          "base_uri": "https://localhost:8080/",
          "height": 34
        }
      },
      "source": [
        "thedict = {'a':1}\n"
      ],
      "execution_count": 0,
      "outputs": [
        {
          "output_type": "execute_result",
          "data": {
            "text/plain": [
              "NoneType"
            ]
          },
          "metadata": {
            "tags": []
          },
          "execution_count": 128
        }
      ]
    },
    {
      "cell_type": "code",
      "metadata": {
        "id": "x9xhCXIRShFC",
        "colab_type": "code",
        "colab": {}
      },
      "source": [
        "def lemma_list(list_of_str):\n",
        "  \n",
        "  words_pos = nltk.pos_tag(list_of_str) # list of tuples: [('word1', POS1), ('word2', POS2) ... ]\n",
        "  \n",
        "  # need tag_dict because WordNetLemmatizer().lemmatize(word, pos) does not take in things like \"NNP\" for proper noun in pos, need to make it \"n\":\n",
        "  tag_dict = {\"J\": wordnet.ADJ,\n",
        "              \"N\": wordnet.NOUN,\n",
        "              \"V\": wordnet.VERB,\n",
        "              \"R\": wordnet.ADV}\n",
        "  \n",
        "  word_pos_conv = [(word, tag_dict.get(pos[0])) for word, pos in words_pos] # words, pos converted; None if not J, N, V, or R\n",
        "  \n",
        "  return_list = [WordNetLemmatizer().lemmatize(i[0], pos = i[1]) if i[1] != None else WordNetLemmatizer().lemmatize(i[0]) for i in word_pos_conv]\n",
        "\n",
        "  return return_list"
      ],
      "execution_count": 0,
      "outputs": []
    },
    {
      "cell_type": "code",
      "metadata": {
        "id": "aZ3CoQlmS5gU",
        "colab_type": "code",
        "outputId": "42d3f196-afbb-41a0-fa07-7de76e2fe98e",
        "colab": {
          "base_uri": "https://localhost:8080/",
          "height": 235
        }
      },
      "source": [
        "# test\n",
        "lemma_list([\"will\", \"this\", \"work\", \"well\", \"here\", \"?\", \"not\", \"sure\", \"he\", \"ran\", \"jumped\", \"and\", \"flew\"])"
      ],
      "execution_count": 0,
      "outputs": [
        {
          "output_type": "execute_result",
          "data": {
            "text/plain": [
              "['will',\n",
              " 'this',\n",
              " 'work',\n",
              " 'well',\n",
              " 'here',\n",
              " '?',\n",
              " 'not',\n",
              " 'sure',\n",
              " 'he',\n",
              " 'run',\n",
              " 'jumped',\n",
              " 'and',\n",
              " 'fly']"
            ]
          },
          "metadata": {
            "tags": []
          },
          "execution_count": 151
        }
      ]
    },
    {
      "cell_type": "code",
      "metadata": {
        "id": "tKrXdX6hSIjn",
        "colab_type": "code",
        "outputId": "d4d11cb6-1b1e-48e5-9651-8ba2c3089e3a",
        "colab": {
          "base_uri": "https://localhost:8080/",
          "height": 823
        }
      },
      "source": [
        "data['review'] = data['review'].apply(lemma_list)\n",
        "data['review'][0]"
      ],
      "execution_count": 0,
      "outputs": [
        {
          "output_type": "execute_result",
          "data": {
            "text/plain": [
              "['depo',\n",
              " 'injection',\n",
              " 'since',\n",
              " 'january',\n",
              " '2015',\n",
              " 'bleeding',\n",
              " 'stop',\n",
              " 'another',\n",
              " 'injection',\n",
              " 'june',\n",
              " 'bleed',\n",
              " 'month',\n",
              " 'start',\n",
              " 'spot',\n",
              " 'mid-july',\n",
              " 'since',\n",
              " 'approx',\n",
              " 'august',\n",
              " '1st',\n",
              " 'bleed',\n",
              " 'constantly',\n",
              " 'heavy',\n",
              " 'enough',\n",
              " 'use',\n",
              " 'pad',\n",
              " 'almost',\n",
              " 'november',\n",
              " \"i'm\",\n",
              " 'sick',\n",
              " 'bleed',\n",
              " 'fork',\n",
              " 'money',\n",
              " 'sanitary',\n",
              " 'pad',\n",
              " 'bleeding-well',\n",
              " 'long',\n",
              " 'currently',\n",
              " 'await',\n",
              " 'ultrasound',\n",
              " 'see',\n",
              " 'happen',\n",
              " 'would',\n",
              " 'like',\n",
              " 'change',\n",
              " 'contraceptive',\n",
              " 'doctor',\n",
              " 'let',\n",
              " ':(']"
            ]
          },
          "metadata": {
            "tags": []
          },
          "execution_count": 153
        }
      ]
    },
    {
      "cell_type": "markdown",
      "metadata": {
        "id": "WuueXOmZSIuw",
        "colab_type": "text"
      },
      "source": [
        "# Pickle data (frame)"
      ]
    },
    {
      "cell_type": "code",
      "metadata": {
        "id": "CVyTM3-PT1Nu",
        "colab_type": "code",
        "colab": {}
      },
      "source": [
        "import pickle"
      ],
      "execution_count": 0,
      "outputs": []
    },
    {
      "cell_type": "code",
      "metadata": {
        "id": "QaTbYvdaT1Ep",
        "colab_type": "code",
        "colab": {}
      },
      "source": [
        "# with open(\"DrugReviewCleaned\", \"wb\") as output_file:\n",
        "#   pickle.dump(data, output_file)"
      ],
      "execution_count": 0,
      "outputs": []
    },
    {
      "cell_type": "code",
      "metadata": {
        "id": "AksSMyPESI1C",
        "colab_type": "code",
        "colab": {}
      },
      "source": [
        "with open(\"DrugReviewCleaned\", \"rb\") as input_file:\n",
        "  data = pickle.load(input_file)"
      ],
      "execution_count": 0,
      "outputs": []
    },
    {
      "cell_type": "markdown",
      "metadata": {
        "id": "Lojseu5HspC9",
        "colab_type": "text"
      },
      "source": [
        "# Merging back bag of words for each review into a single string to input into Tokenizer"
      ]
    },
    {
      "cell_type": "code",
      "metadata": {
        "id": "qgpfnSHrs6Ch",
        "colab_type": "code",
        "outputId": "388f1ac2-bbbf-4c78-d83d-b45798dc1c55",
        "colab": {
          "base_uri": "https://localhost:8080/",
          "height": 823
        }
      },
      "source": [
        "# before\n",
        "data['review'][0]"
      ],
      "execution_count": 0,
      "outputs": [
        {
          "output_type": "execute_result",
          "data": {
            "text/plain": [
              "['depo',\n",
              " 'injection',\n",
              " 'since',\n",
              " 'january',\n",
              " '2015',\n",
              " 'bleeding',\n",
              " 'stop',\n",
              " 'another',\n",
              " 'injection',\n",
              " 'june',\n",
              " 'bleed',\n",
              " 'month',\n",
              " 'start',\n",
              " 'spot',\n",
              " 'mid-july',\n",
              " 'since',\n",
              " 'approx',\n",
              " 'august',\n",
              " '1st',\n",
              " 'bleed',\n",
              " 'constantly',\n",
              " 'heavy',\n",
              " 'enough',\n",
              " 'use',\n",
              " 'pad',\n",
              " 'almost',\n",
              " 'november',\n",
              " \"i'm\",\n",
              " 'sick',\n",
              " 'bleed',\n",
              " 'fork',\n",
              " 'money',\n",
              " 'sanitary',\n",
              " 'pad',\n",
              " 'bleeding-well',\n",
              " 'long',\n",
              " 'currently',\n",
              " 'await',\n",
              " 'ultrasound',\n",
              " 'see',\n",
              " 'happen',\n",
              " 'would',\n",
              " 'like',\n",
              " 'change',\n",
              " 'contraceptive',\n",
              " 'doctor',\n",
              " 'let',\n",
              " ':(']"
            ]
          },
          "metadata": {
            "tags": []
          },
          "execution_count": 8
        }
      ]
    },
    {
      "cell_type": "code",
      "metadata": {
        "id": "NoBgEEG8sxS0",
        "colab_type": "code",
        "outputId": "33f348d9-00ad-4139-84bb-9456f98ad041",
        "colab": {
          "base_uri": "https://localhost:8080/",
          "height": 54
        }
      },
      "source": [
        "# after ; join the strings back so we can do keras.preprocessing.text.Tokenizer().text_to_matrix and get matrix of counts/freq/tfidf back\n",
        "data['review'] = data['review'].apply(lambda x: ' '.join(x))\n",
        "data['review'][0]"
      ],
      "execution_count": 5,
      "outputs": [
        {
          "output_type": "execute_result",
          "data": {
            "text/plain": [
              "\"depo injection since january 2015 bleeding stop another injection june bleed month start spot mid-july since approx august 1st bleed constantly heavy enough use pad almost november i'm sick bleed fork money sanitary pad bleeding-well long currently await ultrasound see happen would like change contraceptive doctor let :(\""
            ]
          },
          "metadata": {
            "tags": []
          },
          "execution_count": 5
        }
      ]
    },
    {
      "cell_type": "markdown",
      "metadata": {
        "id": "KkyjIOo7EseM",
        "colab_type": "text"
      },
      "source": [
        "# Formatting inputs and outputs"
      ]
    },
    {
      "cell_type": "code",
      "metadata": {
        "id": "lT4VLQwENfCA",
        "colab_type": "code",
        "outputId": "afe5f3db-2759-4191-9ac8-4d43b627efd2",
        "colab": {
          "base_uri": "https://localhost:8080/",
          "height": 79
        }
      },
      "source": [
        "from keras.preprocessing.text import Tokenizer # not gonna use this as much to clean, more for formatting since cleaning was done above"
      ],
      "execution_count": 6,
      "outputs": [
        {
          "output_type": "stream",
          "text": [
            "Using TensorFlow backend.\n"
          ],
          "name": "stderr"
        },
        {
          "output_type": "display_data",
          "data": {
            "text/html": [
              "<p style=\"color: red;\">\n",
              "The default version of TensorFlow in Colab will switch to TensorFlow 2.x on the 27th of March, 2020.<br>\n",
              "We recommend you <a href=\"https://www.tensorflow.org/guide/migrate\" target=\"_blank\">upgrade</a> now\n",
              "or ensure your notebook will continue to use TensorFlow 1.x via the <code>%tensorflow_version 1.x</code> magic:\n",
              "<a href=\"https://colab.research.google.com/notebooks/tensorflow_version.ipynb\" target=\"_blank\">more info</a>.</p>\n"
            ],
            "text/plain": [
              "<IPython.core.display.HTML object>"
            ]
          },
          "metadata": {
            "tags": []
          }
        }
      ]
    },
    {
      "cell_type": "markdown",
      "metadata": {
        "id": "8qV5KCGLDAjs",
        "colab_type": "text"
      },
      "source": [
        "## Checking to see what we want\n",
        "Do we want sequences? : [[1], [3], [1], [4], [5], [2], [6], [1], [2]]\n",
        "\n",
        "or a matrix: \n",
        "\n",
        "array([[0.        , 0.33333333, 0.22222222, 0.11111111, 0.11111111,\n",
        "        0.11111111, 0.11111111]])\n",
        "note: matrices will have first column/value = 0\n",
        "\n",
        "\n",
        "And matrix based on frequency, having it/not (0 or 1), tf-idf?"
      ]
    },
    {
      "cell_type": "code",
      "metadata": {
        "id": "mJguofODxEg2",
        "colab_type": "code",
        "colab": {}
      },
      "source": [
        "kToken = Tokenizer()"
      ],
      "execution_count": 0,
      "outputs": []
    },
    {
      "cell_type": "code",
      "metadata": {
        "id": "pmRRmdTNxEW0",
        "colab_type": "code",
        "colab": {}
      },
      "source": [
        "kToken.fit_on_texts([\"this\", \"is\", \"this\", \"string\", \"but\", \"for\", \"testing\", \"this\", \"for\"])"
      ],
      "execution_count": 0,
      "outputs": []
    },
    {
      "cell_type": "code",
      "metadata": {
        "id": "XuUPHVmkxENE",
        "colab_type": "code",
        "colab": {}
      },
      "source": [
        "sequences = kToken.texts_to_sequences([\"this\", \"is\", \"this\", \"string\", \"but\", \"for\", \"testing\", \"this\", \"for\"])"
      ],
      "execution_count": 0,
      "outputs": []
    },
    {
      "cell_type": "code",
      "metadata": {
        "id": "7N3N8Yp3xEDa",
        "colab_type": "code",
        "outputId": "1946ee64-2329-42d5-af1e-74da0b8cd35f",
        "colab": {
          "base_uri": "https://localhost:8080/",
          "height": 34
        }
      },
      "source": [
        "sequences"
      ],
      "execution_count": 0,
      "outputs": [
        {
          "output_type": "execute_result",
          "data": {
            "text/plain": [
              "[[1], [3], [1], [4], [5], [2], [6], [1], [2]]"
            ]
          },
          "metadata": {
            "tags": []
          },
          "execution_count": 13
        }
      ]
    },
    {
      "cell_type": "code",
      "metadata": {
        "id": "2gCZyQwQzihe",
        "colab_type": "code",
        "outputId": "d70ed1c3-5daa-418b-fdc4-0630c9702fd0",
        "colab": {
          "base_uri": "https://localhost:8080/",
          "height": 34
        }
      },
      "source": [
        "kToken.word_index"
      ],
      "execution_count": 0,
      "outputs": [
        {
          "output_type": "execute_result",
          "data": {
            "text/plain": [
              "{'but': 5, 'for': 2, 'is': 3, 'string': 4, 'testing': 6, 'this': 1}"
            ]
          },
          "metadata": {
            "tags": []
          },
          "execution_count": 19
        }
      ]
    },
    {
      "cell_type": "code",
      "metadata": {
        "id": "MdQacU0rzivN",
        "colab_type": "code",
        "colab": {}
      },
      "source": [
        "ohe = kToken.texts_to_matrix([[\"this\", \"is\", \"this\", \"string\", \"but\", \"for\", \"testing\", \"this\", \"for\"], [\"this\", \"is\", \"testing\", \"this\"]], mode = 'count')"
      ],
      "execution_count": 0,
      "outputs": []
    },
    {
      "cell_type": "code",
      "metadata": {
        "id": "t2e_cUK2zioq",
        "colab_type": "code",
        "outputId": "2bb854c3-9c07-4948-9cb5-b475baec692f",
        "colab": {
          "base_uri": "https://localhost:8080/",
          "height": 50
        }
      },
      "source": [
        "ohe"
      ],
      "execution_count": 0,
      "outputs": [
        {
          "output_type": "execute_result",
          "data": {
            "text/plain": [
              "array([[0., 3., 2., 1., 1., 1., 1.],\n",
              "       [0., 2., 0., 1., 0., 0., 1.]])"
            ]
          },
          "metadata": {
            "tags": []
          },
          "execution_count": 48
        }
      ]
    },
    {
      "cell_type": "markdown",
      "metadata": {
        "id": "jVyntMmx_vL5",
        "colab_type": "text"
      },
      "source": [
        "### We probably want count/frequency or tf-idf; freq is just count/total in that list\n",
        "Just don't do binary because it doesn't give us as much information. Should probably test all"
      ]
    },
    {
      "cell_type": "markdown",
      "metadata": {
        "id": "cg3pyJRpNfe_",
        "colab_type": "text"
      },
      "source": [
        "## Make inputs and output into an acceptable format (count-matrices for inputs, ohe the outputs)"
      ]
    },
    {
      "cell_type": "markdown",
      "metadata": {
        "id": "5Mi00QBpNfkB",
        "colab_type": "text"
      },
      "source": [
        "### Inputs [1]"
      ]
    },
    {
      "cell_type": "code",
      "metadata": {
        "id": "jOdAgcKLNfof",
        "colab_type": "code",
        "colab": {}
      },
      "source": [
        "kToken = Tokenizer(num_words = 2500)"
      ],
      "execution_count": 0,
      "outputs": []
    },
    {
      "cell_type": "code",
      "metadata": {
        "id": "cpqxeTEYNft-",
        "colab_type": "code",
        "colab": {}
      },
      "source": [
        "# fit on texts\n",
        "kToken.fit_on_texts(data['review'])"
      ],
      "execution_count": 0,
      "outputs": []
    },
    {
      "cell_type": "code",
      "metadata": {
        "id": "g6Y5Mr3yxYIM",
        "colab_type": "code",
        "colab": {}
      },
      "source": [
        "# text to matrix\n",
        "input_matrix = kToken.texts_to_matrix(data['review'], mode = 'count')\n"
      ],
      "execution_count": 0,
      "outputs": []
    },
    {
      "cell_type": "code",
      "metadata": {
        "id": "Db_g9kwikWJU",
        "colab_type": "code",
        "outputId": "da979948-b232-4b44-e734-b733376f2dd4",
        "colab": {
          "base_uri": "https://localhost:8080/",
          "height": 34
        }
      },
      "source": [
        "input_matrix.shape # 215063, num_words = 5000"
      ],
      "execution_count": 10,
      "outputs": [
        {
          "output_type": "execute_result",
          "data": {
            "text/plain": [
              "(215063, 2500)"
            ]
          },
          "metadata": {
            "tags": []
          },
          "execution_count": 10
        }
      ]
    },
    {
      "cell_type": "code",
      "metadata": {
        "colab_type": "code",
        "id": "827t_vloA7zC",
        "colab": {}
      },
      "source": [
        "# there are 49,319 tokens in all 215,063 reviews; first column is 0;"
      ],
      "execution_count": 0,
      "outputs": []
    },
    {
      "cell_type": "code",
      "metadata": {
        "id": "k05DKjOPAyk0",
        "colab_type": "code",
        "colab": {}
      },
      "source": [
        "################################################################"
      ],
      "execution_count": 0,
      "outputs": []
    },
    {
      "cell_type": "code",
      "metadata": {
        "id": "flxCsN0F_iDE",
        "colab_type": "code",
        "outputId": "d39f4053-265e-438f-f8e5-a764033bc0eb",
        "colab": {
          "base_uri": "https://localhost:8080/",
          "height": 34
        }
      },
      "source": [
        "# for later to find the most commonly used words\n",
        "sequences = kToken.texts_to_sequences(data['review'])"
      ],
      "execution_count": 0,
      "outputs": [
        {
          "output_type": "execute_result",
          "data": {
            "text/plain": [
              "[12, 10, 1, 637, 2433, 41, 65, 2888, 1232]"
            ]
          },
          "metadata": {
            "tags": []
          },
          "execution_count": 37
        }
      ]
    },
    {
      "cell_type": "code",
      "metadata": {
        "id": "vnzxbulV_vsq",
        "colab_type": "code",
        "outputId": "6930acd9-e314-4bde-f5e8-2967f135b04c",
        "colab": {
          "base_uri": "https://localhost:8080/",
          "height": 34
        }
      },
      "source": [
        "len(sequences[0]), len(sequences[1]) "
      ],
      "execution_count": 0,
      "outputs": [
        {
          "output_type": "execute_result",
          "data": {
            "text/plain": [
              "(9, 64)"
            ]
          },
          "metadata": {
            "tags": []
          },
          "execution_count": 39
        }
      ]
    },
    {
      "cell_type": "code",
      "metadata": {
        "id": "43yp22-A48w0",
        "colab_type": "code",
        "outputId": "9c2f7ed4-3503-4c3b-c252-8bdf8b7a91bd",
        "colab": {
          "base_uri": "https://localhost:8080/",
          "height": 34
        }
      },
      "source": [
        "decoder = kToken.word_index\n",
        "len(decoder)"
      ],
      "execution_count": 0,
      "outputs": [
        {
          "output_type": "execute_result",
          "data": {
            "text/plain": [
              "49319"
            ]
          },
          "metadata": {
            "tags": []
          },
          "execution_count": 36
        }
      ]
    },
    {
      "cell_type": "code",
      "metadata": {
        "id": "O0mnCffd_9KX",
        "colab_type": "code",
        "colab": {}
      },
      "source": [
        "####################################################################"
      ],
      "execution_count": 0,
      "outputs": []
    },
    {
      "cell_type": "code",
      "metadata": {
        "id": "Wc4mx1Kr_v2g",
        "colab_type": "code",
        "colab": {}
      },
      "source": [
        ""
      ],
      "execution_count": 0,
      "outputs": []
    },
    {
      "cell_type": "markdown",
      "metadata": {
        "colab_type": "text",
        "id": "XJ9b96vEPngz"
      },
      "source": [
        "### Inputs [2]"
      ]
    },
    {
      "cell_type": "code",
      "metadata": {
        "colab_type": "code",
        "id": "_mO4lzSfPng1",
        "colab": {}
      },
      "source": [
        "kToken = Tokenizer(num_words = 5000)"
      ],
      "execution_count": 0,
      "outputs": []
    },
    {
      "cell_type": "code",
      "metadata": {
        "colab_type": "code",
        "id": "JjnGpo1fPng5",
        "colab": {}
      },
      "source": [
        "# fit on texts\n",
        "kToken.fit_on_texts(data['review'])"
      ],
      "execution_count": 0,
      "outputs": []
    },
    {
      "cell_type": "code",
      "metadata": {
        "colab_type": "code",
        "id": "W0wV2LohPng7",
        "colab": {}
      },
      "source": [
        "# text to matrix\n",
        "input_matrix = kToken.texts_to_matrix(data['review'], mode = 'tfidf')\n"
      ],
      "execution_count": 0,
      "outputs": []
    },
    {
      "cell_type": "code",
      "metadata": {
        "id": "L-VMM47g5ddO",
        "colab_type": "code",
        "colab": {}
      },
      "source": [
        ""
      ],
      "execution_count": 0,
      "outputs": []
    },
    {
      "cell_type": "markdown",
      "metadata": {
        "id": "nEXCavxKJAib",
        "colab_type": "text"
      },
      "source": [
        "### Outputs"
      ]
    },
    {
      "cell_type": "code",
      "metadata": {
        "id": "2XEkloPlJCK6",
        "colab_type": "code",
        "colab": {}
      },
      "source": [
        "import pandas as pd"
      ],
      "execution_count": 0,
      "outputs": []
    },
    {
      "cell_type": "code",
      "metadata": {
        "id": "D-swlCF9JDh1",
        "colab_type": "code",
        "outputId": "9f05240c-5b64-43b3-dff6-74db29f147bf",
        "colab": {
          "base_uri": "https://localhost:8080/",
          "height": 34
        }
      },
      "source": [
        "outputs = pd.get_dummies(data['rating']).reset_index(drop = True)\n",
        "outputs.shape # 215063, 10 for now, without binning"
      ],
      "execution_count": 12,
      "outputs": [
        {
          "output_type": "execute_result",
          "data": {
            "text/plain": [
              "(215063, 10)"
            ]
          },
          "metadata": {
            "tags": []
          },
          "execution_count": 12
        }
      ]
    },
    {
      "cell_type": "markdown",
      "metadata": {
        "id": "RpYeFFKNziTS",
        "colab_type": "text"
      },
      "source": [
        "### Binning"
      ]
    },
    {
      "cell_type": "code",
      "metadata": {
        "id": "lu4lie7jfChv",
        "colab_type": "code",
        "colab": {
          "base_uri": "https://localhost:8080/",
          "height": 34
        },
        "outputId": "2938f14d-8d06-4432-d6c4-6aa3929e5b8a"
      },
      "source": [
        "data.columns"
      ],
      "execution_count": 47,
      "outputs": [
        {
          "output_type": "execute_result",
          "data": {
            "text/plain": [
              "Index(['review', 'rating'], dtype='object')"
            ]
          },
          "metadata": {
            "tags": []
          },
          "execution_count": 47
        }
      ]
    },
    {
      "cell_type": "code",
      "metadata": {
        "id": "E4wiBzt4fCfn",
        "colab_type": "code",
        "colab": {
          "base_uri": "https://localhost:8080/",
          "height": 252
        },
        "outputId": "6ae88a61-e563-484f-d786-9b983735a8aa"
      },
      "source": [
        "cond_list = [data['rating'] < 4, \n",
        "             data['rating'] < 8, \n",
        "             data['rating'] <= 10] # 1,2,3 -> 1 ; 4,5,6,7 -> 2 ; 8,9,10 -> 3\n",
        "choice_list = [1, 2, 3]\n",
        "data['binned_rating'] = np.select(condlist = cond_list, choicelist = choice_list)\n",
        "data['binned_rating'].value_counts(), data['rating'].value_counts().sort_index(ascending = False) # check values all add up correctly"
      ],
      "execution_count": 51,
      "outputs": [
        {
          "output_type": "execute_result",
          "data": {
            "text/plain": [
              "(3    129759\n",
              " 1     46901\n",
              " 2     38403\n",
              " Name: binned_rating, dtype: int64, 10.0    68005\n",
              " 9.0     36708\n",
              " 8.0     25046\n",
              " 7.0     12547\n",
              " 6.0      8462\n",
              " 5.0     10723\n",
              " 4.0      6671\n",
              " 3.0      8718\n",
              " 2.0      9265\n",
              " 1.0     28918\n",
              " Name: rating, dtype: int64)"
            ]
          },
          "metadata": {
            "tags": []
          },
          "execution_count": 51
        }
      ]
    },
    {
      "cell_type": "code",
      "metadata": {
        "id": "NgUxQIfiz_bd",
        "colab_type": "code",
        "colab": {}
      },
      "source": [
        ""
      ],
      "execution_count": 0,
      "outputs": []
    },
    {
      "cell_type": "markdown",
      "metadata": {
        "id": "069dJ0Iwz_Z4",
        "colab_type": "text"
      },
      "source": [
        "### Binned outputs"
      ]
    },
    {
      "cell_type": "code",
      "metadata": {
        "id": "FXweLUUyz_Vw",
        "colab_type": "code",
        "colab": {
          "base_uri": "https://localhost:8080/",
          "height": 34
        },
        "outputId": "ca4b18de-b221-42ad-f4cb-036a86a85260"
      },
      "source": [
        "binned_outputs = pd.get_dummies(data['binned_rating']).reset_index(drop = True)\n",
        "binned_outputs.shape # 215063, 3"
      ],
      "execution_count": 52,
      "outputs": [
        {
          "output_type": "execute_result",
          "data": {
            "text/plain": [
              "(215063, 3)"
            ]
          },
          "metadata": {
            "tags": []
          },
          "execution_count": 52
        }
      ]
    },
    {
      "cell_type": "code",
      "metadata": {
        "id": "jXtgE1Lx07ey",
        "colab_type": "code",
        "colab": {}
      },
      "source": [
        "binned_outputs = np.array(binned_outputs)"
      ],
      "execution_count": 0,
      "outputs": []
    },
    {
      "cell_type": "markdown",
      "metadata": {
        "id": "fBpTcXDWCbw2",
        "colab_type": "text"
      },
      "source": [
        "### Split data"
      ]
    },
    {
      "cell_type": "code",
      "metadata": {
        "id": "8lhiLhUjJ9L1",
        "colab_type": "code",
        "outputId": "30bccd5e-920a-4a40-cff3-8fbcad58ec85",
        "colab": {
          "base_uri": "https://localhost:8080/",
          "height": 34
        }
      },
      "source": [
        "type(input_matrix) # should make outputs an ndarray also"
      ],
      "execution_count": 0,
      "outputs": [
        {
          "output_type": "execute_result",
          "data": {
            "text/plain": [
              "numpy.ndarray"
            ]
          },
          "metadata": {
            "tags": []
          },
          "execution_count": 54
        }
      ]
    },
    {
      "cell_type": "code",
      "metadata": {
        "id": "IPYkgpSPSqFn",
        "colab_type": "code",
        "colab": {}
      },
      "source": [
        "outputs = np.array(outputs) # making outputs an ndarray"
      ],
      "execution_count": 0,
      "outputs": []
    },
    {
      "cell_type": "code",
      "metadata": {
        "id": "HRfm6iVWCbnF",
        "colab_type": "code",
        "outputId": "ca35c1ce-a075-4de9-ae31-42d37e7f9dee",
        "colab": {
          "base_uri": "https://localhost:8080/",
          "height": 34
        }
      },
      "source": [
        "train_size = round(.75*input_matrix.shape[0])\n",
        "train_size # 161297"
      ],
      "execution_count": 14,
      "outputs": [
        {
          "output_type": "execute_result",
          "data": {
            "text/plain": [
              "(161297, 53766, 215063)"
            ]
          },
          "metadata": {
            "tags": []
          },
          "execution_count": 14
        }
      ]
    },
    {
      "cell_type": "code",
      "metadata": {
        "id": "JmaEMo2kOgGj",
        "colab_type": "code",
        "colab": {}
      },
      "source": [
        "import random"
      ],
      "execution_count": 0,
      "outputs": []
    },
    {
      "cell_type": "code",
      "metadata": {
        "id": "S75iOsndCbfm",
        "colab_type": "code",
        "outputId": "cc50bff1-fb0b-4352-a60f-afc32f024bad",
        "colab": {
          "base_uri": "https://localhost:8080/",
          "height": 34
        }
      },
      "source": [
        "grab_these_train = random.sample(range(1, input_matrix.shape[0]), k = train_size) # picks k unique random elements from sample\n",
        "grab_these_train[:5]"
      ],
      "execution_count": 16,
      "outputs": [
        {
          "output_type": "execute_result",
          "data": {
            "text/plain": [
              "[41380, 162104, 84029, 25407, 117610]"
            ]
          },
          "metadata": {
            "tags": []
          },
          "execution_count": 16
        }
      ]
    },
    {
      "cell_type": "code",
      "metadata": {
        "id": "QoklnyghKwUu",
        "colab_type": "code",
        "colab": {}
      },
      "source": [
        "train_input = input_matrix[grab_these_train]\n",
        "test_input = np.delete(input_matrix, grab_these_train, axis = 0)\n",
        "\n",
        "train_output = outputs[grab_these_train]\n",
        "test_output = np.delete(outputs, grab_these_train, axis = 0)"
      ],
      "execution_count": 0,
      "outputs": []
    },
    {
      "cell_type": "code",
      "metadata": {
        "id": "qq7VEM72Kwcq",
        "colab_type": "code",
        "outputId": "8da40f9b-5280-4d9a-b42b-80a6ff3b21c5",
        "colab": {
          "base_uri": "https://localhost:8080/",
          "height": 34
        }
      },
      "source": [
        "train_input.shape, train_output.shape, test_input.shape, test_output.shape # ((161297, 5000), (161297, 10), (53766, 5000), (53766, 10))"
      ],
      "execution_count": 18,
      "outputs": [
        {
          "output_type": "execute_result",
          "data": {
            "text/plain": [
              "((161297, 2500), (161297, 10), (53766, 2500), (53766, 10))"
            ]
          },
          "metadata": {
            "tags": []
          },
          "execution_count": 18
        }
      ]
    },
    {
      "cell_type": "code",
      "metadata": {
        "id": "qMp6T9BuKwnY",
        "colab_type": "code",
        "colab": {}
      },
      "source": [
        ""
      ],
      "execution_count": 0,
      "outputs": []
    },
    {
      "cell_type": "code",
      "metadata": {
        "id": "_uZLNUoYKwrU",
        "colab_type": "code",
        "colab": {}
      },
      "source": [
        "# for binned outputs:"
      ],
      "execution_count": 0,
      "outputs": []
    },
    {
      "cell_type": "code",
      "metadata": {
        "id": "xDyGAu0pKwv8",
        "colab_type": "code",
        "colab": {}
      },
      "source": [
        "import random\n",
        "\n",
        "grab_these_train = random.sample(range(1, input_matrix.shape[0]), k = train_size) # picks k unique random elements from sample\n",
        "grab_these_train[:5]\n",
        "\n",
        "train_input = input_matrix[grab_these_train]\n",
        "test_input = np.delete(input_matrix, grab_these_train, axis = 0)\n",
        "\n",
        "train_output = binned_outputs[grab_these_train]\n",
        "test_output = np.delete(binned_outputs, grab_these_train, axis = 0)"
      ],
      "execution_count": 0,
      "outputs": []
    },
    {
      "cell_type": "code",
      "metadata": {
        "id": "ZarLTmScKw04",
        "colab_type": "code",
        "colab": {}
      },
      "source": [
        ""
      ],
      "execution_count": 0,
      "outputs": []
    },
    {
      "cell_type": "markdown",
      "metadata": {
        "id": "puUHXghKziLi",
        "colab_type": "text"
      },
      "source": [
        "# Creating the model"
      ]
    },
    {
      "cell_type": "code",
      "metadata": {
        "id": "2wyNf25OVG9b",
        "colab_type": "code",
        "colab": {}
      },
      "source": [
        "from keras import Sequential\n",
        "from keras.layers import Dense"
      ],
      "execution_count": 0,
      "outputs": []
    },
    {
      "cell_type": "code",
      "metadata": {
        "id": "8631MSSTNfLg",
        "colab_type": "code",
        "colab": {}
      },
      "source": [
        "model = Sequential()"
      ],
      "execution_count": 0,
      "outputs": []
    },
    {
      "cell_type": "code",
      "metadata": {
        "id": "Xmd0gazUNfUD",
        "colab_type": "code",
        "colab": {}
      },
      "source": [
        "model.add(Dense(units = 150, activation = 'linear', input_shape = (5000,))) # https://keras.io/activations/\n",
        "model.add(Dense(units = 75, activation = 'relu'))\n",
        "model.add(Dense(units = 50, activation = 'relu'))\n",
        "model.add(Dense(units = 25, activation = 'relu'))\n",
        "model.add(Dense(units = 15, activation = 'relu'))\n",
        "model.add(Dense(units = 10, activation = 'softmax'))"
      ],
      "execution_count": 0,
      "outputs": []
    },
    {
      "cell_type": "code",
      "metadata": {
        "id": "NLDcXSWgNfas",
        "colab_type": "code",
        "colab": {}
      },
      "source": [
        "model.compile(optimizer = 'SGD', # https://keras.io/optimizers/\n",
        "              loss = 'categorical_crossentropy', \n",
        "              metrics = ['accuracy'])"
      ],
      "execution_count": 0,
      "outputs": []
    },
    {
      "cell_type": "code",
      "metadata": {
        "id": "KFPPlNtNJDaP",
        "colab_type": "code",
        "outputId": "62396627-368b-4090-bc32-cb24beecae8e",
        "colab": {
          "base_uri": "https://localhost:8080/",
          "height": 1000
        }
      },
      "source": [
        "trained_mod = model.fit(x = train_input,\n",
        "                        y = train_output,\n",
        "                        batch_size = round(train_input.shape[0]/3),\n",
        "                        epochs = 35,\n",
        "                        verbose = 1)\n",
        "# 5000 most common words by count, train acc = 0.3163, \n",
        "# adding another layer did not help, first activation relu -> linear did not help (as expected)\n",
        "# second activation relu -> exponential did not help\n",
        "\n",
        "# 5000 most common words by tfidf, train acc = 0.2639\n",
        "\n",
        "# 2500 most common words by count, train acc = 0.3167"
      ],
      "execution_count": 44,
      "outputs": [
        {
          "output_type": "stream",
          "text": [
            "Epoch 1/35\n",
            "161297/161297 [==============================] - 4s 25us/step - loss: 2.2324 - acc: 0.2178\n",
            "Epoch 2/35\n",
            "161297/161297 [==============================] - 4s 22us/step - loss: 2.2284 - acc: 0.2428\n",
            "Epoch 3/35\n",
            "161297/161297 [==============================] - 4s 22us/step - loss: 2.2245 - acc: 0.2632\n",
            "Epoch 4/35\n",
            "161297/161297 [==============================] - 4s 22us/step - loss: 2.2205 - acc: 0.2802\n",
            "Epoch 5/35\n",
            "161297/161297 [==============================] - 4s 25us/step - loss: 2.2167 - acc: 0.2930\n",
            "Epoch 6/35\n",
            "161297/161297 [==============================] - 4s 22us/step - loss: 2.2128 - acc: 0.3030\n",
            "Epoch 7/35\n",
            "161297/161297 [==============================] - 4s 22us/step - loss: 2.2090 - acc: 0.3090\n",
            "Epoch 8/35\n",
            "161297/161297 [==============================] - 4s 22us/step - loss: 2.2053 - acc: 0.3123\n",
            "Epoch 9/35\n",
            "161297/161297 [==============================] - 4s 22us/step - loss: 2.2015 - acc: 0.3146\n",
            "Epoch 10/35\n",
            "161297/161297 [==============================] - 4s 22us/step - loss: 2.1979 - acc: 0.3158\n",
            "Epoch 11/35\n",
            "161297/161297 [==============================] - 4s 22us/step - loss: 2.1942 - acc: 0.3163\n",
            "Epoch 12/35\n",
            "161297/161297 [==============================] - 4s 22us/step - loss: 2.1907 - acc: 0.3166\n",
            "Epoch 13/35\n",
            "161297/161297 [==============================] - 4s 23us/step - loss: 2.1871 - acc: 0.3167\n",
            "Epoch 14/35\n",
            "161297/161297 [==============================] - 3s 22us/step - loss: 2.1836 - acc: 0.3167\n",
            "Epoch 15/35\n",
            "161297/161297 [==============================] - 4s 22us/step - loss: 2.1802 - acc: 0.3167\n",
            "Epoch 16/35\n",
            "161297/161297 [==============================] - 4s 22us/step - loss: 2.1768 - acc: 0.3167\n",
            "Epoch 17/35\n",
            "161297/161297 [==============================] - 4s 22us/step - loss: 2.1734 - acc: 0.3167\n",
            "Epoch 18/35\n",
            "161297/161297 [==============================] - 4s 22us/step - loss: 2.1701 - acc: 0.3167\n",
            "Epoch 19/35\n",
            "161297/161297 [==============================] - 4s 23us/step - loss: 2.1668 - acc: 0.3167\n",
            "Epoch 20/35\n",
            "161297/161297 [==============================] - 4s 22us/step - loss: 2.1636 - acc: 0.3167\n",
            "Epoch 21/35\n",
            "161297/161297 [==============================] - 4s 22us/step - loss: 2.1604 - acc: 0.3167\n",
            "Epoch 22/35\n",
            "161297/161297 [==============================] - 4s 22us/step - loss: 2.1572 - acc: 0.3167\n",
            "Epoch 23/35\n",
            "161297/161297 [==============================] - 4s 22us/step - loss: 2.1541 - acc: 0.3167\n",
            "Epoch 24/35\n",
            "161297/161297 [==============================] - 4s 22us/step - loss: 2.1511 - acc: 0.3167\n",
            "Epoch 25/35\n",
            "161297/161297 [==============================] - 4s 23us/step - loss: 2.1480 - acc: 0.3167\n",
            "Epoch 26/35\n",
            "161297/161297 [==============================] - 4s 22us/step - loss: 2.1451 - acc: 0.3167\n",
            "Epoch 27/35\n",
            "161297/161297 [==============================] - 4s 22us/step - loss: 2.1421 - acc: 0.3167\n",
            "Epoch 28/35\n",
            "161297/161297 [==============================] - 4s 22us/step - loss: 2.1392 - acc: 0.3167\n",
            "Epoch 29/35\n",
            "161297/161297 [==============================] - 4s 22us/step - loss: 2.1364 - acc: 0.3167\n",
            "Epoch 30/35\n",
            "161297/161297 [==============================] - 4s 22us/step - loss: 2.1336 - acc: 0.3167\n",
            "Epoch 31/35\n",
            "161297/161297 [==============================] - 4s 22us/step - loss: 2.1308 - acc: 0.3167\n",
            "Epoch 32/35\n",
            "161297/161297 [==============================] - 4s 23us/step - loss: 2.1281 - acc: 0.3167\n",
            "Epoch 33/35\n",
            "161297/161297 [==============================] - 4s 22us/step - loss: 2.1254 - acc: 0.3167\n",
            "Epoch 34/35\n",
            "161297/161297 [==============================] - 3s 22us/step - loss: 2.1227 - acc: 0.3168\n",
            "Epoch 35/35\n",
            "161297/161297 [==============================] - 4s 22us/step - loss: 2.1201 - acc: 0.3168\n"
          ],
          "name": "stdout"
        }
      ]
    },
    {
      "cell_type": "code",
      "metadata": {
        "id": "e80E6qfwJDWa",
        "colab_type": "code",
        "colab": {}
      },
      "source": [
        "first_preds = model.predict(test_input)"
      ],
      "execution_count": 0,
      "outputs": []
    },
    {
      "cell_type": "code",
      "metadata": {
        "id": "X-vlngI2JDPJ",
        "colab_type": "code",
        "outputId": "3d3c7b1d-b38f-4a84-e3c3-e8a9ac7d7e42",
        "colab": {
          "base_uri": "https://localhost:8080/",
          "height": 50
        }
      },
      "source": [
        "model.evaluate(test_input, test_output)\n",
        "\n",
        "# 5000 most common by count, test acc = 0.31873302830896116 with 10 epochs, 0.31603615667949636 with 20 epochs, 0.31603615667949636 with 25\n",
        "# 5000 most common by tfidf, test acc = 0.3145668266196072 with 35 epochs\n",
        "\n",
        "# 2500 most common by count, test acc = 0.3145668266196072 with 35 epochs"
      ],
      "execution_count": 46,
      "outputs": [
        {
          "output_type": "stream",
          "text": [
            "53766/53766 [==============================] - 3s 53us/step\n"
          ],
          "name": "stdout"
        },
        {
          "output_type": "execute_result",
          "data": {
            "text/plain": [
              "[2.1214806450507258, 0.3145668266196072]"
            ]
          },
          "metadata": {
            "tags": []
          },
          "execution_count": 46
        }
      ]
    },
    {
      "cell_type": "code",
      "metadata": {
        "id": "FNTEWha7JCd5",
        "colab_type": "code",
        "outputId": "166661cb-79b7-488f-a564-9f249f9cdce4",
        "colab": {
          "base_uri": "https://localhost:8080/",
          "height": 202
        }
      },
      "source": [
        "data['rating'].value_counts(normalize = True).sort_index(ascending = False)"
      ],
      "execution_count": 0,
      "outputs": [
        {
          "output_type": "execute_result",
          "data": {
            "text/plain": [
              "10.0    0.316210\n",
              "9.0     0.170685\n",
              "8.0     0.116459\n",
              "7.0     0.058341\n",
              "6.0     0.039347\n",
              "5.0     0.049860\n",
              "4.0     0.031019\n",
              "3.0     0.040537\n",
              "2.0     0.043080\n",
              "1.0     0.134463\n",
              "Name: rating, dtype: float64"
            ]
          },
          "metadata": {
            "tags": []
          },
          "execution_count": 92
        }
      ]
    },
    {
      "cell_type": "code",
      "metadata": {
        "id": "EMIJMnW3ZHtP",
        "colab_type": "code",
        "colab": {
          "base_uri": "https://localhost:8080/",
          "height": 370
        },
        "outputId": "2171554a-7eef-4c41-918b-a763b55f37d1"
      },
      "source": [
        "first_preds[:10]"
      ],
      "execution_count": 30,
      "outputs": [
        {
          "output_type": "execute_result",
          "data": {
            "text/plain": [
              "array([[0.11441886, 0.06366932, 0.08143107, 0.06767189, 0.08838321,\n",
              "        0.0834289 , 0.09216303, 0.09217538, 0.11745916, 0.19919915],\n",
              "       [0.11767954, 0.05678561, 0.07789585, 0.06502455, 0.08631671,\n",
              "        0.0782707 , 0.09291974, 0.08794307, 0.1214708 , 0.21569347],\n",
              "       [0.11503238, 0.06278246, 0.0824286 , 0.06703684, 0.08680184,\n",
              "        0.08372429, 0.09111775, 0.09311291, 0.1166238 , 0.20133913],\n",
              "       [0.11376171, 0.05745225, 0.07909165, 0.06301744, 0.08720892,\n",
              "        0.08657054, 0.08721355, 0.09748223, 0.11817972, 0.21002191],\n",
              "       [0.11880101, 0.0382544 , 0.07577224, 0.05234138, 0.07813098,\n",
              "        0.08038432, 0.08063058, 0.08725923, 0.11353891, 0.274887  ],\n",
              "       [0.11465237, 0.05382126, 0.07418919, 0.06296764, 0.08755852,\n",
              "        0.08398012, 0.09020371, 0.09519538, 0.12365792, 0.21377386],\n",
              "       [0.11542429, 0.0517186 , 0.07677797, 0.05833614, 0.08703785,\n",
              "        0.08478747, 0.08415153, 0.09359308, 0.11757223, 0.23060079],\n",
              "       [0.1176017 , 0.06303667, 0.0801095 , 0.06756008, 0.08627404,\n",
              "        0.08390237, 0.09230628, 0.09429915, 0.11759453, 0.19731572],\n",
              "       [0.1132635 , 0.0650969 , 0.08191942, 0.06785173, 0.08834738,\n",
              "        0.08528894, 0.09138489, 0.09484416, 0.1171959 , 0.19480716],\n",
              "       [0.11243197, 0.06267072, 0.08072572, 0.06651403, 0.08968817,\n",
              "        0.0848807 , 0.09146361, 0.09276966, 0.11720315, 0.20165226]],\n",
              "      dtype=float32)"
            ]
          },
          "metadata": {
            "tags": []
          },
          "execution_count": 30
        }
      ]
    },
    {
      "cell_type": "markdown",
      "metadata": {
        "id": "FtG_YWv9qKbe",
        "colab_type": "text"
      },
      "source": [
        "# Model with binned ratings"
      ]
    },
    {
      "cell_type": "code",
      "metadata": {
        "colab_type": "code",
        "id": "eC6dM9ot3trz",
        "colab": {}
      },
      "source": [
        "from keras import Sequential\n",
        "from keras.layers import Dense"
      ],
      "execution_count": 0,
      "outputs": []
    },
    {
      "cell_type": "code",
      "metadata": {
        "colab_type": "code",
        "id": "uedH9vna3tr_",
        "colab": {}
      },
      "source": [
        "model = Sequential()"
      ],
      "execution_count": 0,
      "outputs": []
    },
    {
      "cell_type": "code",
      "metadata": {
        "colab_type": "code",
        "id": "iUFXXLQa3tsB",
        "colab": {}
      },
      "source": [
        "model.add(Dense(units = 150, activation = 'linear', input_shape = (5000,))) # https://keras.io/activations/\n",
        "model.add(Dense(units = 75, activation = 'relu'))\n",
        "model.add(Dense(units = 50, activation = 'relu'))\n",
        "model.add(Dense(units = 25, activation = 'relu'))\n",
        "model.add(Dense(units = 15, activation = 'relu'))\n",
        "model.add(Dense(units = 3, activation = 'softmax'))"
      ],
      "execution_count": 0,
      "outputs": []
    },
    {
      "cell_type": "code",
      "metadata": {
        "colab_type": "code",
        "id": "8CXffCnq3tsD",
        "colab": {}
      },
      "source": [
        "model.compile(optimizer = 'SGD', # https://keras.io/optimizers/\n",
        "              loss = 'categorical_crossentropy', \n",
        "              metrics = ['accuracy'])"
      ],
      "execution_count": 0,
      "outputs": []
    },
    {
      "cell_type": "code",
      "metadata": {
        "colab_type": "code",
        "outputId": "9ea9060b-39e0-43c6-84e6-734f8474e4bf",
        "id": "xIaDKRVp3tsF",
        "colab": {
          "base_uri": "https://localhost:8080/",
          "height": 1000
        }
      },
      "source": [
        "trained_mod = model.fit(x = train_input,\n",
        "                        y = train_output,\n",
        "                        batch_size = round(train_input.shape[0]/3),\n",
        "                        epochs = 35,\n",
        "                        verbose = 1)\n"
      ],
      "execution_count": 80,
      "outputs": [
        {
          "output_type": "stream",
          "text": [
            "Epoch 1/35\n",
            "161297/161297 [==============================] - 7s 42us/step - loss: 1.0361 - acc: 0.5637\n",
            "Epoch 2/35\n",
            "161297/161297 [==============================] - 5s 29us/step - loss: 1.0288 - acc: 0.5796\n",
            "Epoch 3/35\n",
            "161297/161297 [==============================] - 4s 26us/step - loss: 1.0217 - acc: 0.5893\n",
            "Epoch 4/35\n",
            "161297/161297 [==============================] - 4s 27us/step - loss: 1.0149 - acc: 0.5951\n",
            "Epoch 5/35\n",
            "161297/161297 [==============================] - 4s 26us/step - loss: 1.0085 - acc: 0.5985\n",
            "Epoch 6/35\n",
            "161297/161297 [==============================] - 4s 26us/step - loss: 1.0024 - acc: 0.6005\n",
            "Epoch 7/35\n",
            "161297/161297 [==============================] - 4s 25us/step - loss: 0.9966 - acc: 0.6015\n",
            "Epoch 8/35\n",
            "161297/161297 [==============================] - 4s 25us/step - loss: 0.9913 - acc: 0.6021\n",
            "Epoch 9/35\n",
            "161297/161297 [==============================] - 4s 26us/step - loss: 0.9864 - acc: 0.6026\n",
            "Epoch 10/35\n",
            "161297/161297 [==============================] - 4s 27us/step - loss: 0.9819 - acc: 0.6027\n",
            "Epoch 11/35\n",
            "161297/161297 [==============================] - 4s 26us/step - loss: 0.9778 - acc: 0.6029\n",
            "Epoch 12/35\n",
            "161297/161297 [==============================] - 4s 26us/step - loss: 0.9742 - acc: 0.6029\n",
            "Epoch 13/35\n",
            "161297/161297 [==============================] - 4s 26us/step - loss: 0.9709 - acc: 0.6029\n",
            "Epoch 14/35\n",
            "161297/161297 [==============================] - 4s 25us/step - loss: 0.9680 - acc: 0.6029\n",
            "Epoch 15/35\n",
            "161297/161297 [==============================] - 4s 25us/step - loss: 0.9654 - acc: 0.6029\n",
            "Epoch 16/35\n",
            "161297/161297 [==============================] - 4s 26us/step - loss: 0.9631 - acc: 0.6029\n",
            "Epoch 17/35\n",
            "161297/161297 [==============================] - 4s 26us/step - loss: 0.9610 - acc: 0.6029\n",
            "Epoch 18/35\n",
            "161297/161297 [==============================] - 4s 26us/step - loss: 0.9592 - acc: 0.6029\n",
            "Epoch 19/35\n",
            "161297/161297 [==============================] - 4s 26us/step - loss: 0.9575 - acc: 0.6029\n",
            "Epoch 20/35\n",
            "161297/161297 [==============================] - 4s 25us/step - loss: 0.9561 - acc: 0.6029\n",
            "Epoch 21/35\n",
            "161297/161297 [==============================] - 4s 25us/step - loss: 0.9547 - acc: 0.6029\n",
            "Epoch 22/35\n",
            "161297/161297 [==============================] - 4s 26us/step - loss: 0.9535 - acc: 0.6029\n",
            "Epoch 23/35\n",
            "161297/161297 [==============================] - 4s 25us/step - loss: 0.9523 - acc: 0.6029\n",
            "Epoch 24/35\n",
            "161297/161297 [==============================] - 4s 26us/step - loss: 0.9512 - acc: 0.6029\n",
            "Epoch 25/35\n",
            "161297/161297 [==============================] - 4s 26us/step - loss: 0.9502 - acc: 0.6029\n",
            "Epoch 26/35\n",
            "161297/161297 [==============================] - 4s 26us/step - loss: 0.9492 - acc: 0.6029\n",
            "Epoch 27/35\n",
            "161297/161297 [==============================] - 4s 26us/step - loss: 0.9483 - acc: 0.6029\n",
            "Epoch 28/35\n",
            "161297/161297 [==============================] - 4s 25us/step - loss: 0.9474 - acc: 0.6029\n",
            "Epoch 29/35\n",
            "161297/161297 [==============================] - 4s 26us/step - loss: 0.9465 - acc: 0.6029\n",
            "Epoch 30/35\n",
            "161297/161297 [==============================] - 4s 25us/step - loss: 0.9457 - acc: 0.6029\n",
            "Epoch 31/35\n",
            "161297/161297 [==============================] - 4s 26us/step - loss: 0.9449 - acc: 0.6029\n",
            "Epoch 32/35\n",
            "161297/161297 [==============================] - 4s 27us/step - loss: 0.9440 - acc: 0.6029\n",
            "Epoch 33/35\n",
            "161297/161297 [==============================] - 4s 26us/step - loss: 0.9432 - acc: 0.6029\n",
            "Epoch 34/35\n",
            "161297/161297 [==============================] - 4s 26us/step - loss: 0.9425 - acc: 0.6029\n",
            "Epoch 35/35\n",
            "161297/161297 [==============================] - 4s 26us/step - loss: 0.9417 - acc: 0.6029\n"
          ],
          "name": "stdout"
        }
      ]
    },
    {
      "cell_type": "code",
      "metadata": {
        "colab_type": "code",
        "id": "IxR_7UbZ3tsJ",
        "colab": {}
      },
      "source": [
        "first_preds = model.predict(test_input)"
      ],
      "execution_count": 0,
      "outputs": []
    },
    {
      "cell_type": "code",
      "metadata": {
        "colab_type": "code",
        "outputId": "85659dff-c1b0-49b2-c5c5-ac16cf22322c",
        "id": "nPxukk5x3tsL",
        "colab": {
          "base_uri": "https://localhost:8080/",
          "height": 50
        }
      },
      "source": [
        "model.evaluate(test_input, test_output) # 0.6046200200892611"
      ],
      "execution_count": 82,
      "outputs": [
        {
          "output_type": "stream",
          "text": [
            "53766/53766 [==============================] - 4s 72us/step\n"
          ],
          "name": "stdout"
        },
        {
          "output_type": "execute_result",
          "data": {
            "text/plain": [
              "[0.9402236783694721, 0.6046200200892611]"
            ]
          },
          "metadata": {
            "tags": []
          },
          "execution_count": 82
        }
      ]
    },
    {
      "cell_type": "code",
      "metadata": {
        "id": "9nU6tfCm0Qvw",
        "colab_type": "code",
        "colab": {
          "base_uri": "https://localhost:8080/",
          "height": 84
        },
        "outputId": "3a54aad0-28a7-4200-b9c7-0b50bee01e8e"
      },
      "source": [
        "data['binned_rating'].value_counts(normalize = True).sort_index(ascending = False)"
      ],
      "execution_count": 68,
      "outputs": [
        {
          "output_type": "execute_result",
          "data": {
            "text/plain": [
              "3    0.603353\n",
              "2    0.178566\n",
              "1    0.218080\n",
              "Name: binned_rating, dtype: float64"
            ]
          },
          "metadata": {
            "tags": []
          },
          "execution_count": 68
        }
      ]
    },
    {
      "cell_type": "code",
      "metadata": {
        "id": "6GNGL5At0QsS",
        "colab_type": "code",
        "colab": {
          "base_uri": "https://localhost:8080/",
          "height": 34
        },
        "outputId": "212c9081-135d-4926-8751-68ac43144cb3"
      },
      "source": [
        "first_preds[0]"
      ],
      "execution_count": 84,
      "outputs": [
        {
          "output_type": "execute_result",
          "data": {
            "text/plain": [
              "array([0.2208329 , 0.21620464, 0.5629625 ], dtype=float32)"
            ]
          },
          "metadata": {
            "tags": []
          },
          "execution_count": 84
        }
      ]
    },
    {
      "cell_type": "code",
      "metadata": {
        "id": "wgZMtWFi0Qp-",
        "colab_type": "code",
        "colab": {}
      },
      "source": [
        ""
      ],
      "execution_count": 0,
      "outputs": []
    },
    {
      "cell_type": "code",
      "metadata": {
        "id": "0JhYoYCj0Qm0",
        "colab_type": "code",
        "colab": {}
      },
      "source": [
        ""
      ],
      "execution_count": 0,
      "outputs": []
    },
    {
      "cell_type": "code",
      "metadata": {
        "id": "LDHBUf6m0Qk0",
        "colab_type": "code",
        "colab": {}
      },
      "source": [
        ""
      ],
      "execution_count": 0,
      "outputs": []
    },
    {
      "cell_type": "code",
      "metadata": {
        "id": "Wjs1bFkp0Qhq",
        "colab_type": "code",
        "colab": {}
      },
      "source": [
        ""
      ],
      "execution_count": 0,
      "outputs": []
    }
  ]
}